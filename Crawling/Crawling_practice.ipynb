{
 "cells": [
  {
   "cell_type": "markdown",
   "metadata": {},
   "source": [
    "## urlib basic usage & basic scrping"
   ]
  },
  {
   "cell_type": "code",
   "execution_count": 1,
   "metadata": {},
   "outputs": [],
   "source": [
    "import urllib.request as req"
   ]
  },
  {
   "cell_type": "code",
   "execution_count": 2,
   "metadata": {},
   "outputs": [],
   "source": [
    "# File URL\n",
    "img_url = \"http://post.phinf.naver.net/20160621_169/1466482468068lmSHj_JPEG/If7GeIbOPZuYwI-GI3xU7ENRrlfI.jpg\"\n",
    "html_url = \"https://google.com\""
   ]
  },
  {
   "cell_type": "code",
   "execution_count": 3,
   "metadata": {},
   "outputs": [],
   "source": [
    "# Download path\n",
    "save_path1 = \"C:/Users/juher/TIL/Crawling/Download/test1.jpg\"\n",
    "save_path2 = \"C:/Users/juher/TIL/Crawling/Download/index.html\""
   ]
  },
  {
   "cell_type": "code",
   "execution_count": 4,
   "metadata": {},
   "outputs": [
    {
     "name": "stdout",
     "output_type": "stream",
     "text": [
      "Date: Wed, 28 Jun 2023 04:48:10 GMT\n",
      "Accept-Ranges: bytes\n",
      "Cache-Control: max-age=15552000\n",
      "Content-Length: 797094\n",
      "Content-Type: image/jpeg\n",
      "Last-Modified: Wed, 28 Jun 2023 04:48:11 GMT\n",
      "p3p: CP=\"ALL CURa ADMa DEVa TAIa OUR BUS IND PHY ONL UNI PUR FIN COM NAV INT DEM CNT STA POL HEA PRE LOC OTC\"\n",
      "Age: 0\n",
      "Expires: Mon, 25 Dec 2023 04:48:11 GMT\n",
      "Connection: close\n",
      "\n",
      "\n",
      "Date: Wed, 28 Jun 2023 04:48:11 GMT\n",
      "Expires: -1\n",
      "Cache-Control: private, max-age=0\n",
      "Content-Type: text/html; charset=ISO-8859-1\n",
      "Content-Security-Policy-Report-Only: object-src 'none';base-uri 'self';script-src 'nonce-tyW-somcK3Wt6aLpUxGZ5g' 'strict-dynamic' 'report-sample' 'unsafe-eval' 'unsafe-inline' https: http:;report-uri https://csp.withgoogle.com/csp/gws/other-hp\n",
      "P3P: CP=\"This is not a P3P policy! See g.co/p3phelp for more info.\"\n",
      "Server: gws\n",
      "X-XSS-Protection: 0\n",
      "X-Frame-Options: SAMEORIGIN\n",
      "Set-Cookie: 1P_JAR=2023-06-28-04; expires=Fri, 28-Jul-2023 04:48:11 GMT; path=/; domain=.google.com; Secure\n",
      "Set-Cookie: AEC=AUEFqZeAvHqhvCfM8oqFoOQDo0sg8Hcwk7drQvw0Q8oi5c-7ZSjpaBd_Fik; expires=Mon, 25-Dec-2023 04:48:11 GMT; path=/; domain=.google.com; Secure; HttpOnly; SameSite=lax\n",
      "Set-Cookie: NID=511=FvCRuv6FxOvUzPz-i2y4rznkwvgJ8skyrW1tdJeD-hJaVLMhU0O4yyAieJssQdFwg9teyBW1-tmlwAlH7h3pELQYXF60142Q5fxp_nRRqx8HAFzJv2VC7p-0GkH3fUSXkRb031kPNxvzaS_ywS0kV0eks2n3JSfB-Xozh-qozjY; expires=Thu, 28-Dec-2023 04:48:11 GMT; path=/; domain=.google.com; HttpOnly\n",
      "Alt-Svc: h3=\":443\"; ma=2592000,h3-29=\":443\"; ma=2592000\n",
      "Accept-Ranges: none\n",
      "Vary: Accept-Encoding\n",
      "Connection: close\n",
      "Transfer-Encoding: chunked\n",
      "\n",
      "\n"
     ]
    }
   ],
   "source": [
    "# Exception\n",
    "try:\n",
    "    file1, header1 = req.urlretrieve(img_url, save_path1)\n",
    "    file2, header2 = req.urlretrieve(html_url, save_path2)\n",
    "except Exception as e:\n",
    "    print(\"Download failed.\")\n",
    "    print(e)\n",
    "else:\n",
    "    # print Header info\n",
    "    print(header1)\n",
    "    print(header2)"
   ]
  },
  {
   "cell_type": "code",
   "execution_count": 5,
   "metadata": {},
   "outputs": [
    {
     "name": "stdout",
     "output_type": "stream",
     "text": [
      "filename1 C:/Users/juher/TIL/Crawling/Download/test1.jpg)\n",
      "filename2 C:/Users/juher/TIL/Crawling/Download/index.html)\n",
      "\n",
      "Download Succeed\n"
     ]
    }
   ],
   "source": [
    "# Downloaded file info\n",
    "print(f\"filename1 {file1})\")\n",
    "print(f\"filename2 {file2})\")\n",
    "print()\n",
    "print(\"Download Succeed\")"
   ]
  },
  {
   "cell_type": "markdown",
   "metadata": {},
   "source": [
    "## urlopen funcfion basic usage"
   ]
  },
  {
   "cell_type": "code",
   "execution_count": 6,
   "metadata": {},
   "outputs": [],
   "source": [
    "# import urllib.request as req\n",
    "from urllib.error import URLError, HTTPError"
   ]
  },
  {
   "cell_type": "code",
   "execution_count": 7,
   "metadata": {},
   "outputs": [],
   "source": [
    "# Download file path & file name\n",
    "path_list = [\"C:/Users/juher/TIL/Crawling/Download/test1.jpg\", \"C:/Users/juher/TIL/Crawling/Download/index.html\"]"
   ]
  },
  {
   "cell_type": "code",
   "execution_count": 8,
   "metadata": {},
   "outputs": [],
   "source": [
    "# Resource URL\n",
    "target_url = [img_url, html_url]"
   ]
  },
  {
   "cell_type": "code",
   "execution_count": 11,
   "metadata": {},
   "outputs": [
    {
     "name": "stdout",
     "output_type": "stream",
     "text": [
      "---------------------------------------\n",
      "Header Info--0 : Date: Wed, 28 Jun 2023 05:15:20 GMT\n",
      "Accept-Ranges: bytes\n",
      "Cache-Control: max-age=15552000\n",
      "Content-Length: 797094\n",
      "Content-Type: image/jpeg\n",
      "Last-Modified: Wed, 28 Jun 2023 04:47:48 GMT\n",
      "p3p: CP=\"ALL CURa ADMa DEVa TAIa OUR BUS IND PHY ONL UNI PUR FIN COM NAV INT DEM CNT STA POL HEA PRE LOC OTC\"\n",
      "Age: 1652\n",
      "Expires: Mon, 25 Dec 2023 04:47:48 GMT\n",
      "Connection: close\n",
      "\n",
      "\n",
      "HTTP Status Code : 200\n",
      "\n",
      "Download Succeed.\n",
      "---------------------------------------\n",
      "Header Info--1 : Date: Wed, 28 Jun 2023 05:15:21 GMT\n",
      "Expires: -1\n",
      "Cache-Control: private, max-age=0\n",
      "Content-Type: text/html; charset=ISO-8859-1\n",
      "Content-Security-Policy-Report-Only: object-src 'none';base-uri 'self';script-src 'nonce-B6Vkf15doA_APbUn9CvWTg' 'strict-dynamic' 'report-sample' 'unsafe-eval' 'unsafe-inline' https: http:;report-uri https://csp.withgoogle.com/csp/gws/other-hp\n",
      "P3P: CP=\"This is not a P3P policy! See g.co/p3phelp for more info.\"\n",
      "Server: gws\n",
      "X-XSS-Protection: 0\n",
      "X-Frame-Options: SAMEORIGIN\n",
      "Set-Cookie: 1P_JAR=2023-06-28-05; expires=Fri, 28-Jul-2023 05:15:21 GMT; path=/; domain=.google.com; Secure\n",
      "Set-Cookie: AEC=AUEFqZcxdZKlLvLa03gPjGgwDg72sggPtsTd6ReP6wrP22_72a_SePO0mg; expires=Mon, 25-Dec-2023 05:15:21 GMT; path=/; domain=.google.com; Secure; HttpOnly; SameSite=lax\n",
      "Set-Cookie: NID=511=scuwBDJAbOWPkR2IQHOwmowJ7Ow6ckIuf5Toq_mZ79Piwt7pccVdFuhHecy1xTDTIqtG-iSsrxjkPsvU_Ge3ubvySA1j7Q_M_S14LDWlqgKEsmiRJvqciGf6PRNSH1f90MLkpp6MNgHgzCcEeozXtG8jI0oESvBk0lYZr_Spx04; expires=Thu, 28-Dec-2023 05:15:21 GMT; path=/; domain=.google.com; HttpOnly\n",
      "Alt-Svc: h3=\":443\"; ma=2592000,h3-29=\":443\"; ma=2592000\n",
      "Accept-Ranges: none\n",
      "Vary: Accept-Encoding\n",
      "Connection: close\n",
      "Transfer-Encoding: chunked\n",
      "\n",
      "\n",
      "HTTP Status Code : 200\n",
      "\n",
      "Download Succeed.\n"
     ]
    }
   ],
   "source": [
    "for i, url in enumerate(target_url):\n",
    "    try:\n",
    "        # read received web info \n",
    "        response = req.urlopen(url)\n",
    "        # save received contents on contents object\n",
    "        contents = response.read()\n",
    "\n",
    "        print(\"---------------------------------------\")\n",
    "\n",
    "        # print status\n",
    "        print(f'Header Info--{i} : {response.info()}')\n",
    "        print(f\"HTTP Status Code : {response.getcode()}\")\n",
    "\n",
    "        # write file\n",
    "        with open(path_list[i], 'wb') as c:\n",
    "            c.write(contents)\n",
    "        # if HTTP error occurs\n",
    "    except HTTPError as e:\n",
    "        print(\"Download failed.\")\n",
    "        print(\"HTTPError Code : \", e.code)\n",
    "        # if URL error occurs\n",
    "    except URLError as e:\n",
    "        print(\"Download failed.\")\n",
    "        print(\"URL Error Reason : \", e.reason)\n",
    "        # if succeeds\n",
    "    else:\n",
    "        print()\n",
    "        print(\"Download Succeed.\")"
   ]
  },
  {
   "cell_type": "markdown",
   "metadata": {},
   "source": [
    "## lxml usage & basic scraping"
   ]
  },
  {
   "cell_type": "code",
   "execution_count": null,
   "metadata": {},
   "outputs": [],
   "source": [
    "# execute on cmd terminal\n",
    "## pip install lxml\n",
    "## pip install requests\n",
    "## pip install cssselect"
   ]
  },
  {
   "cell_type": "code",
   "execution_count": 12,
   "metadata": {},
   "outputs": [],
   "source": [
    "from typing import get_args\n",
    "import requests\n",
    "from lxml.html import fromstring, tostring"
   ]
  },
  {
   "cell_type": "code",
   "execution_count": 22,
   "metadata": {},
   "outputs": [],
   "source": [
    "def main():\n",
    "    # create session\n",
    "    session = requests.Session()\n",
    "    # scraping target url (get/post)\n",
    "    response = session.get(\"https://kin.naver.com/search/list.naver?query=%ED%8C%8C%EC%9D%B4%EC%8D%AC\")\n",
    "\n",
    "    # get \n",
    "    urls = scrape_kin_list_page(response)\n",
    "\n",
    "    # print results\n",
    "    for name, url in urls.items():\n",
    "        print(name, url)\n",
    "\n",
    "def scrape_kin_list_page(response):\n",
    "    urls = {}\n",
    "\n",
    "    root = fromstring(response.content)\n",
    "\n",
    "    for a in root.xpath('//ul[@class=\"basic1\"]/li/dl/dt/a[@class=\"_nclicks:kin.txt _searchListTitleAnchor\"]'):\n",
    "        name, url = extract_contents(a)\n",
    "        urls[name] = url\n",
    "    \n",
    "    return urls\n",
    "\n",
    "def extract_contents(doc):\n",
    "    link = doc.get(\"href\")\n",
    "\n",
    "    name = doc.text_content()\n",
    "    return name, link"
   ]
  },
  {
   "cell_type": "code",
   "execution_count": 23,
   "metadata": {},
   "outputs": [
    {
     "name": "stdout",
     "output_type": "stream",
     "text": [
      "파이썬 프로그램 알려주세요! https://kin.naver.com/qna/detail.naver?d1id=1&dirId=10402&docId=448454169&qb=7YyM7J207I2s&enc=utf8&section=kin&rank=1&search_sort=0&spq=0\n",
      "이거알려주세여파이썬.. https://kin.naver.com/qna/detail.naver?d1id=1&dirId=10402&docId=447641687&qb=7YyM7J207I2s&enc=utf8&section=kin&rank=2&search_sort=0&spq=0\n",
      "블렌더 파이썬 https://kin.naver.com/qna/detail.naver?d1id=1&dirId=10402&docId=446478764&qb=7YyM7J207I2s&enc=utf8&section=kin&rank=3&search_sort=0&spq=0\n",
      "파이썬 풀이과정 https://kin.naver.com/qna/detail.naver?d1id=1&dirId=10402&docId=448758131&qb=7YyM7J207I2s&enc=utf8&section=kin&rank=4&search_sort=0&spq=0\n",
      "파이썬 설명 https://kin.naver.com/qna/detail.naver?d1id=1&dirId=10402&docId=448754627&qb=7YyM7J207I2s&enc=utf8&section=kin&rank=5&search_sort=0&spq=0\n",
      "파이썬 알려주세요 https://kin.naver.com/qna/detail.naver?d1id=1&dirId=10402&docId=447034730&qb=7YyM7J207I2s&enc=utf8&section=kin&rank=6&search_sort=0&spq=0\n",
      "it유학 해외에서 파이썬 공부 https://kin.naver.com/qna/detail.naver?d1id=1&dirId=10402&docId=448107091&qb=7YyM7J207I2s&enc=utf8&section=kin&rank=7&search_sort=0&spq=0\n",
      "파이썬 코드 작성 https://kin.naver.com/qna/detail.naver?d1id=1&dirId=10402&docId=448102995&qb=7YyM7J207I2s&enc=utf8&section=kin&rank=8&search_sort=0&spq=0\n",
      "파이썬자격증 관련 정보 좀 알려주세요 https://kin.naver.com/qna/detail.naver?d1id=1&dirId=1020303&docId=447990274&qb=7YyM7J207I2s&enc=utf8&section=kin&rank=9&search_sort=0&spq=0\n",
      "정보 수행평가 파이썬 https://kin.naver.com/qna/detail.naver?d1id=1&dirId=10402&docId=448319456&qb=7YyM7J207I2s&enc=utf8&section=kin&rank=10&search_sort=0&spq=0\n"
     ]
    }
   ],
   "source": [
    "if __name__ == '__main__':\n",
    "    main()"
   ]
  },
  {
   "cell_type": "markdown",
   "metadata": {},
   "source": [
    "## lxml usage"
   ]
  },
  {
   "cell_type": "code",
   "execution_count": 20,
   "metadata": {},
   "outputs": [],
   "source": [
    "import requests\n",
    "import lxml.html"
   ]
  },
  {
   "cell_type": "code",
   "execution_count": 31,
   "metadata": {},
   "outputs": [
    {
     "name": "stdout",
     "output_type": "stream",
     "text": [
      "/store/books/look.php?p_code=B9385341956\n",
      "javascript:;\n",
      "/store/books/look.php?p_code=B9385341956\n",
      "/store/books/look.php?p_code=B8585215801\n",
      "javascript:;\n",
      "/store/books/look.php?p_code=B8585215801\n",
      "/store/books/look.php?p_code=B2266571115\n",
      "javascript:;\n",
      "/store/books/look.php?p_code=B2266571115\n",
      "/store/books/look.php?p_code=B1427989673\n",
      "/store/books/look.php?p_code=B1427989673\n",
      "/store/books/look.php?p_code=B5395686917\n",
      "/store/books/look.php?p_code=B5395686917\n",
      "/store/books/look.php?p_code=B3426421803\n",
      "javascript:;\n",
      "/store/books/look.php?p_code=B3426421803\n",
      "/store/books/look.php?p_code=B8357399793\n",
      "javascript:;\n",
      "/store/books/look.php?p_code=B8357399793\n",
      "/store/books/look.php?p_code=B5226777809\n",
      "/store/books/look.php?p_code=B5226777809\n",
      "/store/books/look.php?p_code=B7138292013\n",
      "javascript:;\n",
      "/store/books/look.php?p_code=B7138292013\n",
      "/store/books/look.php?p_code=B9136698640\n",
      "/store/books/look.php?p_code=B9136698640\n",
      "/store/books/look.php?p_code=B2488511359\n",
      "/store/books/look.php?p_code=B2488511359\n",
      "/store/books/look.php?p_code=B7241537082\n",
      "/store/books/look.php?p_code=B7241537082\n",
      "/store/books/look.php?p_code=B2303795973\n",
      "javascript:;\n",
      "/store/books/look.php?p_code=B2303795973\n",
      "/store/books/look.php?p_code=B7217842958\n",
      "/store/books/look.php?p_code=B7217842958\n",
      "/store/books/look.php?p_code=B7472659872\n",
      "javascript:;\n",
      "/store/books/look.php?p_code=B7472659872\n",
      "/store/books/look.php?p_code=B4360196989\n",
      "javascript:;\n",
      "/store/books/look.php?p_code=B4360196989\n",
      "/store/books/look.php?p_code=B1545996317\n",
      "javascript:;\n",
      "/store/books/look.php?p_code=B1545996317\n",
      "/store/books/look.php?p_code=B1646599905\n",
      "javascript:;\n",
      "/store/books/look.php?p_code=B1646599905\n",
      "/store/books/look.php?p_code=B6376751099\n",
      "javascript:;\n",
      "/store/books/look.php?p_code=B6376751099\n",
      "/store/books/look.php?p_code=B3580402703\n",
      "/store/books/look.php?p_code=B3580402703\n"
     ]
    }
   ],
   "source": [
    "response  = requests.get('http://www.hanbit.co.kr/store/books/new_book_list.html')\n",
    "root = lxml.html.fromstring(response.content)\n",
    "\n",
    "for a in root.cssselect('.view_box a'):\n",
    "    url = a.get('href')\n",
    "    print(url)"
   ]
  },
  {
   "cell_type": "markdown",
   "metadata": {},
   "source": [
    "## Get method data transaction "
   ]
  },
  {
   "cell_type": "code",
   "execution_count": 1,
   "metadata": {},
   "outputs": [],
   "source": [
    "import urllib.request\n",
    "from urllib.parse import urlparse"
   ]
  },
  {
   "cell_type": "code",
   "execution_count": 2,
   "metadata": {},
   "outputs": [],
   "source": [
    "url = \"http://www.encar.com\"\n",
    "\n",
    "mem = urllib.request.urlopen(url)"
   ]
  },
  {
   "cell_type": "code",
   "execution_count": 3,
   "metadata": {},
   "outputs": [
    {
     "name": "stdout",
     "output_type": "stream",
     "text": [
      "type : <class 'http.client.HTTPResponse'>\n",
      "geturl : http://www.encar.com/index.do\n",
      "status : 200\n",
      "headers : [('X-Encar-Web', 'P2'), ('Date', 'Wed, 28 Jun 2023 09:31:51 GMT'), ('Set-Cookie', 'WMONID=GIg1Q6D0EU3; Expires=Thu, 27-Jun-2024 18:31:51 GMT; Path=/'), ('Content-Type', 'text/html; charset=EUC-KR'), ('Connection', 'close'), ('Content-Language', 'ko-KR'), ('Set-Cookie', 'JSESSIONID=3kOoJ1ivq5sXQvoRK3Pegti5evw2YovX0fanc0ol1wMs4N5Ux611HHV7br3YGQ35.mono-was2-prod_servlet_encarWeb6;Path=/'), ('P3P', \"CP='CAO PSA CONi OTR OUR DEM ONL'\"), ('X-UA-Compatible', 'IE=Edge'), ('X-Encar-WAS', 'W6'), ('Transfer-Encoding', 'chunked')]\n",
      "getcode : 200\n",
      "read: \n",
      "\n",
      "parse : test=test\n"
     ]
    }
   ],
   "source": [
    "# print info\n",
    "\n",
    "print(f'type : {type(mem)}')\n",
    "print(f'geturl : {mem.geturl()}')\n",
    "print(f'status : {mem.status}')\n",
    "print(f'headers : {mem.getheaders()}')\n",
    "print(f'getcode : {mem.getcode()}')\n",
    "print(f'read: {mem.read(1).decode(\"utf-8\")}')\n",
    "print(f'parse : {urlparse(\"http://www.encar.com/index.do?test=test\").query}')"
   ]
  },
  {
   "cell_type": "code",
   "execution_count": 4,
   "metadata": {},
   "outputs": [],
   "source": [
    "API = \"https://api.ipify.org\""
   ]
  },
  {
   "cell_type": "code",
   "execution_count": 5,
   "metadata": {},
   "outputs": [],
   "source": [
    "values = {\n",
    "    'format': 'json'\n",
    "}"
   ]
  },
  {
   "cell_type": "code",
   "execution_count": 6,
   "metadata": {},
   "outputs": [
    {
     "name": "stdout",
     "output_type": "stream",
     "text": [
      "before param : {'format': 'json'}\n",
      "after param : format=json\n"
     ]
    }
   ],
   "source": [
    "print(f'before param : {values}')\n",
    "params = urllib.parse.urlencode(values)\n",
    "print(f'after param : {params}')"
   ]
  },
  {
   "cell_type": "code",
   "execution_count": 7,
   "metadata": {},
   "outputs": [
    {
     "name": "stdout",
     "output_type": "stream",
     "text": [
      "url request = https://api.ipify.org?format=json\n"
     ]
    }
   ],
   "source": [
    "url = API + \"?\" + params\n",
    "print(f\"url request = {url}\")"
   ]
  },
  {
   "cell_type": "code",
   "execution_count": 8,
   "metadata": {},
   "outputs": [
    {
     "ename": "URLError",
     "evalue": "<urlopen error [Errno 11001] getaddrinfo failed>",
     "output_type": "error",
     "traceback": [
      "\u001b[1;31m---------------------------------------------------------------------------\u001b[0m",
      "\u001b[1;31mgaierror\u001b[0m                                  Traceback (most recent call last)",
      "File \u001b[1;32m~\\anaconda3\\lib\\urllib\\request.py:1348\u001b[0m, in \u001b[0;36mAbstractHTTPHandler.do_open\u001b[1;34m(self, http_class, req, **http_conn_args)\u001b[0m\n\u001b[0;32m   1347\u001b[0m \u001b[38;5;28;01mtry\u001b[39;00m:\n\u001b[1;32m-> 1348\u001b[0m     \u001b[43mh\u001b[49m\u001b[38;5;241;43m.\u001b[39;49m\u001b[43mrequest\u001b[49m\u001b[43m(\u001b[49m\u001b[43mreq\u001b[49m\u001b[38;5;241;43m.\u001b[39;49m\u001b[43mget_method\u001b[49m\u001b[43m(\u001b[49m\u001b[43m)\u001b[49m\u001b[43m,\u001b[49m\u001b[43m \u001b[49m\u001b[43mreq\u001b[49m\u001b[38;5;241;43m.\u001b[39;49m\u001b[43mselector\u001b[49m\u001b[43m,\u001b[49m\u001b[43m \u001b[49m\u001b[43mreq\u001b[49m\u001b[38;5;241;43m.\u001b[39;49m\u001b[43mdata\u001b[49m\u001b[43m,\u001b[49m\u001b[43m \u001b[49m\u001b[43mheaders\u001b[49m\u001b[43m,\u001b[49m\n\u001b[0;32m   1349\u001b[0m \u001b[43m              \u001b[49m\u001b[43mencode_chunked\u001b[49m\u001b[38;5;241;43m=\u001b[39;49m\u001b[43mreq\u001b[49m\u001b[38;5;241;43m.\u001b[39;49m\u001b[43mhas_header\u001b[49m\u001b[43m(\u001b[49m\u001b[38;5;124;43m'\u001b[39;49m\u001b[38;5;124;43mTransfer-encoding\u001b[39;49m\u001b[38;5;124;43m'\u001b[39;49m\u001b[43m)\u001b[49m\u001b[43m)\u001b[49m\n\u001b[0;32m   1350\u001b[0m \u001b[38;5;28;01mexcept\u001b[39;00m \u001b[38;5;167;01mOSError\u001b[39;00m \u001b[38;5;28;01mas\u001b[39;00m err: \u001b[38;5;66;03m# timeout error\u001b[39;00m\n",
      "File \u001b[1;32m~\\anaconda3\\lib\\http\\client.py:1282\u001b[0m, in \u001b[0;36mHTTPConnection.request\u001b[1;34m(self, method, url, body, headers, encode_chunked)\u001b[0m\n\u001b[0;32m   1281\u001b[0m \u001b[38;5;124;03m\"\"\"Send a complete request to the server.\"\"\"\u001b[39;00m\n\u001b[1;32m-> 1282\u001b[0m \u001b[38;5;28;43mself\u001b[39;49m\u001b[38;5;241;43m.\u001b[39;49m\u001b[43m_send_request\u001b[49m\u001b[43m(\u001b[49m\u001b[43mmethod\u001b[49m\u001b[43m,\u001b[49m\u001b[43m \u001b[49m\u001b[43murl\u001b[49m\u001b[43m,\u001b[49m\u001b[43m \u001b[49m\u001b[43mbody\u001b[49m\u001b[43m,\u001b[49m\u001b[43m \u001b[49m\u001b[43mheaders\u001b[49m\u001b[43m,\u001b[49m\u001b[43m \u001b[49m\u001b[43mencode_chunked\u001b[49m\u001b[43m)\u001b[49m\n",
      "File \u001b[1;32m~\\anaconda3\\lib\\http\\client.py:1328\u001b[0m, in \u001b[0;36mHTTPConnection._send_request\u001b[1;34m(self, method, url, body, headers, encode_chunked)\u001b[0m\n\u001b[0;32m   1327\u001b[0m     body \u001b[38;5;241m=\u001b[39m _encode(body, \u001b[38;5;124m'\u001b[39m\u001b[38;5;124mbody\u001b[39m\u001b[38;5;124m'\u001b[39m)\n\u001b[1;32m-> 1328\u001b[0m \u001b[38;5;28;43mself\u001b[39;49m\u001b[38;5;241;43m.\u001b[39;49m\u001b[43mendheaders\u001b[49m\u001b[43m(\u001b[49m\u001b[43mbody\u001b[49m\u001b[43m,\u001b[49m\u001b[43m \u001b[49m\u001b[43mencode_chunked\u001b[49m\u001b[38;5;241;43m=\u001b[39;49m\u001b[43mencode_chunked\u001b[49m\u001b[43m)\u001b[49m\n",
      "File \u001b[1;32m~\\anaconda3\\lib\\http\\client.py:1277\u001b[0m, in \u001b[0;36mHTTPConnection.endheaders\u001b[1;34m(self, message_body, encode_chunked)\u001b[0m\n\u001b[0;32m   1276\u001b[0m     \u001b[38;5;28;01mraise\u001b[39;00m CannotSendHeader()\n\u001b[1;32m-> 1277\u001b[0m \u001b[38;5;28;43mself\u001b[39;49m\u001b[38;5;241;43m.\u001b[39;49m\u001b[43m_send_output\u001b[49m\u001b[43m(\u001b[49m\u001b[43mmessage_body\u001b[49m\u001b[43m,\u001b[49m\u001b[43m \u001b[49m\u001b[43mencode_chunked\u001b[49m\u001b[38;5;241;43m=\u001b[39;49m\u001b[43mencode_chunked\u001b[49m\u001b[43m)\u001b[49m\n",
      "File \u001b[1;32m~\\anaconda3\\lib\\http\\client.py:1037\u001b[0m, in \u001b[0;36mHTTPConnection._send_output\u001b[1;34m(self, message_body, encode_chunked)\u001b[0m\n\u001b[0;32m   1036\u001b[0m \u001b[38;5;28;01mdel\u001b[39;00m \u001b[38;5;28mself\u001b[39m\u001b[38;5;241m.\u001b[39m_buffer[:]\n\u001b[1;32m-> 1037\u001b[0m \u001b[38;5;28;43mself\u001b[39;49m\u001b[38;5;241;43m.\u001b[39;49m\u001b[43msend\u001b[49m\u001b[43m(\u001b[49m\u001b[43mmsg\u001b[49m\u001b[43m)\u001b[49m\n\u001b[0;32m   1039\u001b[0m \u001b[38;5;28;01mif\u001b[39;00m message_body \u001b[38;5;129;01mis\u001b[39;00m \u001b[38;5;129;01mnot\u001b[39;00m \u001b[38;5;28;01mNone\u001b[39;00m:\n\u001b[0;32m   1040\u001b[0m \n\u001b[0;32m   1041\u001b[0m     \u001b[38;5;66;03m# create a consistent interface to message_body\u001b[39;00m\n",
      "File \u001b[1;32m~\\anaconda3\\lib\\http\\client.py:975\u001b[0m, in \u001b[0;36mHTTPConnection.send\u001b[1;34m(self, data)\u001b[0m\n\u001b[0;32m    974\u001b[0m \u001b[38;5;28;01mif\u001b[39;00m \u001b[38;5;28mself\u001b[39m\u001b[38;5;241m.\u001b[39mauto_open:\n\u001b[1;32m--> 975\u001b[0m     \u001b[38;5;28;43mself\u001b[39;49m\u001b[38;5;241;43m.\u001b[39;49m\u001b[43mconnect\u001b[49m\u001b[43m(\u001b[49m\u001b[43m)\u001b[49m\n\u001b[0;32m    976\u001b[0m \u001b[38;5;28;01melse\u001b[39;00m:\n",
      "File \u001b[1;32m~\\anaconda3\\lib\\http\\client.py:1447\u001b[0m, in \u001b[0;36mHTTPSConnection.connect\u001b[1;34m(self)\u001b[0m\n\u001b[0;32m   1445\u001b[0m \u001b[38;5;124m\"\u001b[39m\u001b[38;5;124mConnect to a host on a given (SSL) port.\u001b[39m\u001b[38;5;124m\"\u001b[39m\n\u001b[1;32m-> 1447\u001b[0m \u001b[38;5;28;43msuper\u001b[39;49m\u001b[43m(\u001b[49m\u001b[43m)\u001b[49m\u001b[38;5;241;43m.\u001b[39;49m\u001b[43mconnect\u001b[49m\u001b[43m(\u001b[49m\u001b[43m)\u001b[49m\n\u001b[0;32m   1449\u001b[0m \u001b[38;5;28;01mif\u001b[39;00m \u001b[38;5;28mself\u001b[39m\u001b[38;5;241m.\u001b[39m_tunnel_host:\n",
      "File \u001b[1;32m~\\anaconda3\\lib\\http\\client.py:941\u001b[0m, in \u001b[0;36mHTTPConnection.connect\u001b[1;34m(self)\u001b[0m\n\u001b[0;32m    940\u001b[0m sys\u001b[38;5;241m.\u001b[39maudit(\u001b[38;5;124m\"\u001b[39m\u001b[38;5;124mhttp.client.connect\u001b[39m\u001b[38;5;124m\"\u001b[39m, \u001b[38;5;28mself\u001b[39m, \u001b[38;5;28mself\u001b[39m\u001b[38;5;241m.\u001b[39mhost, \u001b[38;5;28mself\u001b[39m\u001b[38;5;241m.\u001b[39mport)\n\u001b[1;32m--> 941\u001b[0m \u001b[38;5;28mself\u001b[39m\u001b[38;5;241m.\u001b[39msock \u001b[38;5;241m=\u001b[39m \u001b[38;5;28;43mself\u001b[39;49m\u001b[38;5;241;43m.\u001b[39;49m\u001b[43m_create_connection\u001b[49m\u001b[43m(\u001b[49m\n\u001b[0;32m    942\u001b[0m \u001b[43m    \u001b[49m\u001b[43m(\u001b[49m\u001b[38;5;28;43mself\u001b[39;49m\u001b[38;5;241;43m.\u001b[39;49m\u001b[43mhost\u001b[49m\u001b[43m,\u001b[49m\u001b[38;5;28;43mself\u001b[39;49m\u001b[38;5;241;43m.\u001b[39;49m\u001b[43mport\u001b[49m\u001b[43m)\u001b[49m\u001b[43m,\u001b[49m\u001b[43m \u001b[49m\u001b[38;5;28;43mself\u001b[39;49m\u001b[38;5;241;43m.\u001b[39;49m\u001b[43mtimeout\u001b[49m\u001b[43m,\u001b[49m\u001b[43m \u001b[49m\u001b[38;5;28;43mself\u001b[39;49m\u001b[38;5;241;43m.\u001b[39;49m\u001b[43msource_address\u001b[49m\u001b[43m)\u001b[49m\n\u001b[0;32m    943\u001b[0m \u001b[38;5;66;03m# Might fail in OSs that don't implement TCP_NODELAY\u001b[39;00m\n",
      "File \u001b[1;32m~\\anaconda3\\lib\\socket.py:824\u001b[0m, in \u001b[0;36mcreate_connection\u001b[1;34m(address, timeout, source_address)\u001b[0m\n\u001b[0;32m    823\u001b[0m err \u001b[38;5;241m=\u001b[39m \u001b[38;5;28;01mNone\u001b[39;00m\n\u001b[1;32m--> 824\u001b[0m \u001b[38;5;28;01mfor\u001b[39;00m res \u001b[38;5;129;01min\u001b[39;00m \u001b[43mgetaddrinfo\u001b[49m\u001b[43m(\u001b[49m\u001b[43mhost\u001b[49m\u001b[43m,\u001b[49m\u001b[43m \u001b[49m\u001b[43mport\u001b[49m\u001b[43m,\u001b[49m\u001b[43m \u001b[49m\u001b[38;5;241;43m0\u001b[39;49m\u001b[43m,\u001b[49m\u001b[43m \u001b[49m\u001b[43mSOCK_STREAM\u001b[49m\u001b[43m)\u001b[49m:\n\u001b[0;32m    825\u001b[0m     af, socktype, proto, canonname, sa \u001b[38;5;241m=\u001b[39m res\n",
      "File \u001b[1;32m~\\anaconda3\\lib\\socket.py:955\u001b[0m, in \u001b[0;36mgetaddrinfo\u001b[1;34m(host, port, family, type, proto, flags)\u001b[0m\n\u001b[0;32m    954\u001b[0m addrlist \u001b[38;5;241m=\u001b[39m []\n\u001b[1;32m--> 955\u001b[0m \u001b[38;5;28;01mfor\u001b[39;00m res \u001b[38;5;129;01min\u001b[39;00m \u001b[43m_socket\u001b[49m\u001b[38;5;241;43m.\u001b[39;49m\u001b[43mgetaddrinfo\u001b[49m\u001b[43m(\u001b[49m\u001b[43mhost\u001b[49m\u001b[43m,\u001b[49m\u001b[43m \u001b[49m\u001b[43mport\u001b[49m\u001b[43m,\u001b[49m\u001b[43m \u001b[49m\u001b[43mfamily\u001b[49m\u001b[43m,\u001b[49m\u001b[43m \u001b[49m\u001b[38;5;28;43mtype\u001b[39;49m\u001b[43m,\u001b[49m\u001b[43m \u001b[49m\u001b[43mproto\u001b[49m\u001b[43m,\u001b[49m\u001b[43m \u001b[49m\u001b[43mflags\u001b[49m\u001b[43m)\u001b[49m:\n\u001b[0;32m    956\u001b[0m     af, socktype, proto, canonname, sa \u001b[38;5;241m=\u001b[39m res\n",
      "\u001b[1;31mgaierror\u001b[0m: [Errno 11001] getaddrinfo failed",
      "\nDuring handling of the above exception, another exception occurred:\n",
      "\u001b[1;31mURLError\u001b[0m                                  Traceback (most recent call last)",
      "Cell \u001b[1;32mIn[8], line 1\u001b[0m\n\u001b[1;32m----> 1\u001b[0m data \u001b[38;5;241m=\u001b[39m \u001b[43murllib\u001b[49m\u001b[38;5;241;43m.\u001b[39;49m\u001b[43mrequest\u001b[49m\u001b[38;5;241;43m.\u001b[39;49m\u001b[43murlopen\u001b[49m\u001b[43m(\u001b[49m\u001b[43murl\u001b[49m\u001b[43m)\u001b[49m\u001b[38;5;241m.\u001b[39mread()\n",
      "File \u001b[1;32m~\\anaconda3\\lib\\urllib\\request.py:216\u001b[0m, in \u001b[0;36murlopen\u001b[1;34m(url, data, timeout, cafile, capath, cadefault, context)\u001b[0m\n\u001b[0;32m    214\u001b[0m \u001b[38;5;28;01melse\u001b[39;00m:\n\u001b[0;32m    215\u001b[0m     opener \u001b[38;5;241m=\u001b[39m _opener\n\u001b[1;32m--> 216\u001b[0m \u001b[38;5;28;01mreturn\u001b[39;00m \u001b[43mopener\u001b[49m\u001b[38;5;241;43m.\u001b[39;49m\u001b[43mopen\u001b[49m\u001b[43m(\u001b[49m\u001b[43murl\u001b[49m\u001b[43m,\u001b[49m\u001b[43m \u001b[49m\u001b[43mdata\u001b[49m\u001b[43m,\u001b[49m\u001b[43m \u001b[49m\u001b[43mtimeout\u001b[49m\u001b[43m)\u001b[49m\n",
      "File \u001b[1;32m~\\anaconda3\\lib\\urllib\\request.py:519\u001b[0m, in \u001b[0;36mOpenerDirector.open\u001b[1;34m(self, fullurl, data, timeout)\u001b[0m\n\u001b[0;32m    516\u001b[0m     req \u001b[38;5;241m=\u001b[39m meth(req)\n\u001b[0;32m    518\u001b[0m sys\u001b[38;5;241m.\u001b[39maudit(\u001b[38;5;124m'\u001b[39m\u001b[38;5;124murllib.Request\u001b[39m\u001b[38;5;124m'\u001b[39m, req\u001b[38;5;241m.\u001b[39mfull_url, req\u001b[38;5;241m.\u001b[39mdata, req\u001b[38;5;241m.\u001b[39mheaders, req\u001b[38;5;241m.\u001b[39mget_method())\n\u001b[1;32m--> 519\u001b[0m response \u001b[38;5;241m=\u001b[39m \u001b[38;5;28;43mself\u001b[39;49m\u001b[38;5;241;43m.\u001b[39;49m\u001b[43m_open\u001b[49m\u001b[43m(\u001b[49m\u001b[43mreq\u001b[49m\u001b[43m,\u001b[49m\u001b[43m \u001b[49m\u001b[43mdata\u001b[49m\u001b[43m)\u001b[49m\n\u001b[0;32m    521\u001b[0m \u001b[38;5;66;03m# post-process response\u001b[39;00m\n\u001b[0;32m    522\u001b[0m meth_name \u001b[38;5;241m=\u001b[39m protocol\u001b[38;5;241m+\u001b[39m\u001b[38;5;124m\"\u001b[39m\u001b[38;5;124m_response\u001b[39m\u001b[38;5;124m\"\u001b[39m\n",
      "File \u001b[1;32m~\\anaconda3\\lib\\urllib\\request.py:536\u001b[0m, in \u001b[0;36mOpenerDirector._open\u001b[1;34m(self, req, data)\u001b[0m\n\u001b[0;32m    533\u001b[0m     \u001b[38;5;28;01mreturn\u001b[39;00m result\n\u001b[0;32m    535\u001b[0m protocol \u001b[38;5;241m=\u001b[39m req\u001b[38;5;241m.\u001b[39mtype\n\u001b[1;32m--> 536\u001b[0m result \u001b[38;5;241m=\u001b[39m \u001b[38;5;28;43mself\u001b[39;49m\u001b[38;5;241;43m.\u001b[39;49m\u001b[43m_call_chain\u001b[49m\u001b[43m(\u001b[49m\u001b[38;5;28;43mself\u001b[39;49m\u001b[38;5;241;43m.\u001b[39;49m\u001b[43mhandle_open\u001b[49m\u001b[43m,\u001b[49m\u001b[43m \u001b[49m\u001b[43mprotocol\u001b[49m\u001b[43m,\u001b[49m\u001b[43m \u001b[49m\u001b[43mprotocol\u001b[49m\u001b[43m \u001b[49m\u001b[38;5;241;43m+\u001b[39;49m\n\u001b[0;32m    537\u001b[0m \u001b[43m                          \u001b[49m\u001b[38;5;124;43m'\u001b[39;49m\u001b[38;5;124;43m_open\u001b[39;49m\u001b[38;5;124;43m'\u001b[39;49m\u001b[43m,\u001b[49m\u001b[43m \u001b[49m\u001b[43mreq\u001b[49m\u001b[43m)\u001b[49m\n\u001b[0;32m    538\u001b[0m \u001b[38;5;28;01mif\u001b[39;00m result:\n\u001b[0;32m    539\u001b[0m     \u001b[38;5;28;01mreturn\u001b[39;00m result\n",
      "File \u001b[1;32m~\\anaconda3\\lib\\urllib\\request.py:496\u001b[0m, in \u001b[0;36mOpenerDirector._call_chain\u001b[1;34m(self, chain, kind, meth_name, *args)\u001b[0m\n\u001b[0;32m    494\u001b[0m \u001b[38;5;28;01mfor\u001b[39;00m handler \u001b[38;5;129;01min\u001b[39;00m handlers:\n\u001b[0;32m    495\u001b[0m     func \u001b[38;5;241m=\u001b[39m \u001b[38;5;28mgetattr\u001b[39m(handler, meth_name)\n\u001b[1;32m--> 496\u001b[0m     result \u001b[38;5;241m=\u001b[39m \u001b[43mfunc\u001b[49m\u001b[43m(\u001b[49m\u001b[38;5;241;43m*\u001b[39;49m\u001b[43margs\u001b[49m\u001b[43m)\u001b[49m\n\u001b[0;32m    497\u001b[0m     \u001b[38;5;28;01mif\u001b[39;00m result \u001b[38;5;129;01mis\u001b[39;00m \u001b[38;5;129;01mnot\u001b[39;00m \u001b[38;5;28;01mNone\u001b[39;00m:\n\u001b[0;32m    498\u001b[0m         \u001b[38;5;28;01mreturn\u001b[39;00m result\n",
      "File \u001b[1;32m~\\anaconda3\\lib\\urllib\\request.py:1391\u001b[0m, in \u001b[0;36mHTTPSHandler.https_open\u001b[1;34m(self, req)\u001b[0m\n\u001b[0;32m   1390\u001b[0m \u001b[38;5;28;01mdef\u001b[39;00m \u001b[38;5;21mhttps_open\u001b[39m(\u001b[38;5;28mself\u001b[39m, req):\n\u001b[1;32m-> 1391\u001b[0m     \u001b[38;5;28;01mreturn\u001b[39;00m \u001b[38;5;28;43mself\u001b[39;49m\u001b[38;5;241;43m.\u001b[39;49m\u001b[43mdo_open\u001b[49m\u001b[43m(\u001b[49m\u001b[43mhttp\u001b[49m\u001b[38;5;241;43m.\u001b[39;49m\u001b[43mclient\u001b[49m\u001b[38;5;241;43m.\u001b[39;49m\u001b[43mHTTPSConnection\u001b[49m\u001b[43m,\u001b[49m\u001b[43m \u001b[49m\u001b[43mreq\u001b[49m\u001b[43m,\u001b[49m\n\u001b[0;32m   1392\u001b[0m \u001b[43m        \u001b[49m\u001b[43mcontext\u001b[49m\u001b[38;5;241;43m=\u001b[39;49m\u001b[38;5;28;43mself\u001b[39;49m\u001b[38;5;241;43m.\u001b[39;49m\u001b[43m_context\u001b[49m\u001b[43m,\u001b[49m\u001b[43m \u001b[49m\u001b[43mcheck_hostname\u001b[49m\u001b[38;5;241;43m=\u001b[39;49m\u001b[38;5;28;43mself\u001b[39;49m\u001b[38;5;241;43m.\u001b[39;49m\u001b[43m_check_hostname\u001b[49m\u001b[43m)\u001b[49m\n",
      "File \u001b[1;32m~\\anaconda3\\lib\\urllib\\request.py:1351\u001b[0m, in \u001b[0;36mAbstractHTTPHandler.do_open\u001b[1;34m(self, http_class, req, **http_conn_args)\u001b[0m\n\u001b[0;32m   1348\u001b[0m         h\u001b[38;5;241m.\u001b[39mrequest(req\u001b[38;5;241m.\u001b[39mget_method(), req\u001b[38;5;241m.\u001b[39mselector, req\u001b[38;5;241m.\u001b[39mdata, headers,\n\u001b[0;32m   1349\u001b[0m                   encode_chunked\u001b[38;5;241m=\u001b[39mreq\u001b[38;5;241m.\u001b[39mhas_header(\u001b[38;5;124m'\u001b[39m\u001b[38;5;124mTransfer-encoding\u001b[39m\u001b[38;5;124m'\u001b[39m))\n\u001b[0;32m   1350\u001b[0m     \u001b[38;5;28;01mexcept\u001b[39;00m \u001b[38;5;167;01mOSError\u001b[39;00m \u001b[38;5;28;01mas\u001b[39;00m err: \u001b[38;5;66;03m# timeout error\u001b[39;00m\n\u001b[1;32m-> 1351\u001b[0m         \u001b[38;5;28;01mraise\u001b[39;00m URLError(err)\n\u001b[0;32m   1352\u001b[0m     r \u001b[38;5;241m=\u001b[39m h\u001b[38;5;241m.\u001b[39mgetresponse()\n\u001b[0;32m   1353\u001b[0m \u001b[38;5;28;01mexcept\u001b[39;00m:\n",
      "\u001b[1;31mURLError\u001b[0m: <urlopen error [Errno 11001] getaddrinfo failed>"
     ]
    }
   ],
   "source": [
    "data = urllib.request.urlopen(url).read()"
   ]
  },
  {
   "cell_type": "code",
   "execution_count": 48,
   "metadata": {},
   "outputs": [
    {
     "ename": "NameError",
     "evalue": "name 'data' is not defined",
     "output_type": "error",
     "traceback": [
      "\u001b[1;31m---------------------------------------------------------------------------\u001b[0m",
      "\u001b[1;31mNameError\u001b[0m                                 Traceback (most recent call last)",
      "Cell \u001b[1;32mIn[48], line 1\u001b[0m\n\u001b[1;32m----> 1\u001b[0m text \u001b[39m=\u001b[39m data\u001b[39m.\u001b[39mdecode(\u001b[39m\"\u001b[39m\u001b[39mutf\u001b[39m\u001b[39m\"\u001b[39m)\n",
      "\u001b[1;31mNameError\u001b[0m: name 'data' is not defined"
     ]
    }
   ],
   "source": [
    "text = data.decode(\"utf\")"
   ]
  },
  {
   "cell_type": "markdown",
   "metadata": {},
   "source": []
  },
  {
   "cell_type": "code",
   "execution_count": null,
   "metadata": {},
   "outputs": [],
   "source": []
  },
  {
   "cell_type": "code",
   "execution_count": 25,
   "metadata": {},
   "outputs": [
    {
     "name": "stdout",
     "output_type": "stream",
     "text": [
      "Collecting fake-useragent\n",
      "  Downloading fake_useragent-1.1.3-py3-none-any.whl (50 kB)\n",
      "                                              0.0/50.5 kB ? eta -:--:--\n",
      "     ---------------------------------------- 50.5/50.5 kB 2.7 MB/s eta 0:00:00\n",
      "Installing collected packages: fake-useragent\n",
      "Successfully installed fake-useragent-1.1.3\n"
     ]
    }
   ],
   "source": [
    "!pip install fake-useragent"
   ]
  },
  {
   "cell_type": "code",
   "execution_count": null,
   "metadata": {},
   "outputs": [],
   "source": []
  }
 ],
 "metadata": {
  "kernelspec": {
   "display_name": "Python 3 (ipykernel)",
   "language": "python",
   "name": "python3"
  },
  "language_info": {
   "codemirror_mode": {
    "name": "ipython",
    "version": 3
   },
   "file_extension": ".py",
   "mimetype": "text/x-python",
   "name": "python",
   "nbconvert_exporter": "python",
   "pygments_lexer": "ipython3",
   "version": "3.10.9"
  }
 },
 "nbformat": 4,
 "nbformat_minor": 2
}
