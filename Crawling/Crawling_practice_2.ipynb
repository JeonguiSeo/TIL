{
 "cells": [
  {
   "attachments": {},
   "cell_type": "markdown",
   "metadata": {},
   "source": [
    "# Music chart crawling"
   ]
  },
  {
   "attachments": {},
   "cell_type": "markdown",
   "metadata": {},
   "source": [
    "## Melon"
   ]
  },
  {
   "cell_type": "code",
   "execution_count": 1,
   "metadata": {},
   "outputs": [],
   "source": [
    "from selenium import webdriver\n",
    "from bs4 import BeautifulSoup"
   ]
  },
  {
   "cell_type": "code",
   "execution_count": 2,
   "metadata": {},
   "outputs": [],
   "source": [
    "from selenium.webdriver.chrome.service import Service as ChromeService\n",
    "from webdriver_manager.chrome import ChromeDriverManager"
   ]
  },
  {
   "cell_type": "code",
   "execution_count": 5,
   "metadata": {},
   "outputs": [],
   "source": [
    "driver = webdriver.Chrome(service=ChromeService(ChromeDriverManager().install()))"
   ]
  },
  {
   "cell_type": "code",
   "execution_count": 7,
   "metadata": {},
   "outputs": [],
   "source": [
    "url = 'http://www.melon.com/chart/index.htm'\n",
    "driver.get(url)\n",
    "\n",
    "html = driver.page_source\n",
    "soup = BeautifulSoup(html, 'html.parser')"
   ]
  },
  {
   "cell_type": "code",
   "execution_count": 8,
   "metadata": {},
   "outputs": [],
   "source": [
    "song_data = []\n",
    "rank = 1\n",
    "\n",
    "songs = soup.select('table > tbody > tr')\n",
    "for song in songs:\n",
    "    title = song.select('div.rank01 > span > a')[0].text\n",
    "    singer = song.select('div.rank02 > a')[0].text\n",
    "    song_data.append(['Melon', rank, title, singer])\n",
    "    rank = rank + 1"
   ]
  },
  {
   "cell_type": "code",
   "execution_count": 9,
   "metadata": {},
   "outputs": [
    {
     "data": {
      "text/html": [
       "<div>\n",
       "<style scoped>\n",
       "    .dataframe tbody tr th:only-of-type {\n",
       "        vertical-align: middle;\n",
       "    }\n",
       "\n",
       "    .dataframe tbody tr th {\n",
       "        vertical-align: top;\n",
       "    }\n",
       "\n",
       "    .dataframe thead th {\n",
       "        text-align: right;\n",
       "    }\n",
       "</style>\n",
       "<table border=\"1\" class=\"dataframe\">\n",
       "  <thead>\n",
       "    <tr style=\"text-align: right;\">\n",
       "      <th></th>\n",
       "      <th>Service</th>\n",
       "      <th>Rank</th>\n",
       "      <th>Title</th>\n",
       "      <th>Singer</th>\n",
       "    </tr>\n",
       "  </thead>\n",
       "  <tbody>\n",
       "    <tr>\n",
       "      <th>0</th>\n",
       "      <td>Melon</td>\n",
       "      <td>1</td>\n",
       "      <td>퀸카 (Queencard)</td>\n",
       "      <td>(여자)아이들</td>\n",
       "    </tr>\n",
       "    <tr>\n",
       "      <th>1</th>\n",
       "      <td>Melon</td>\n",
       "      <td>2</td>\n",
       "      <td>I AM</td>\n",
       "      <td>IVE (아이브)</td>\n",
       "    </tr>\n",
       "    <tr>\n",
       "      <th>2</th>\n",
       "      <td>Melon</td>\n",
       "      <td>3</td>\n",
       "      <td>이브, 프시케 그리고 푸른 수염의 아내</td>\n",
       "      <td>LE SSERAFIM (르세라핌)</td>\n",
       "    </tr>\n",
       "    <tr>\n",
       "      <th>3</th>\n",
       "      <td>Melon</td>\n",
       "      <td>4</td>\n",
       "      <td>Spicy</td>\n",
       "      <td>aespa</td>\n",
       "    </tr>\n",
       "    <tr>\n",
       "      <th>4</th>\n",
       "      <td>Melon</td>\n",
       "      <td>5</td>\n",
       "      <td>UNFORGIVEN (feat. Nile Rodgers)</td>\n",
       "      <td>LE SSERAFIM (르세라핌)</td>\n",
       "    </tr>\n",
       "  </tbody>\n",
       "</table>\n",
       "</div>"
      ],
      "text/plain": [
       "  Service  Rank                            Title              Singer\n",
       "0   Melon     1                   퀸카 (Queencard)             (여자)아이들\n",
       "1   Melon     2                             I AM           IVE (아이브)\n",
       "2   Melon     3            이브, 프시케 그리고 푸른 수염의 아내  LE SSERAFIM (르세라핌)\n",
       "3   Melon     4                            Spicy               aespa\n",
       "4   Melon     5  UNFORGIVEN (feat. Nile Rodgers)  LE SSERAFIM (르세라핌)"
      ]
     },
     "execution_count": 9,
     "metadata": {},
     "output_type": "execute_result"
    }
   ],
   "source": [
    "import pandas as pd\n",
    "columns = ['Service', 'Rank', 'Title', 'Singer']\n",
    "melon = pd.DataFrame(song_data, columns = columns)\n",
    "melon.head()"
   ]
  },
  {
   "cell_type": "code",
   "execution_count": 17,
   "metadata": {},
   "outputs": [
    {
     "name": "stdout",
     "output_type": "stream",
     "text": [
      "Collecting openpyxl\n",
      "  Downloading openpyxl-3.1.2-py2.py3-none-any.whl (249 kB)\n",
      "                                              0.0/250.0 kB ? eta -:--:--\n",
      "     ------------------                     122.9/250.0 kB 2.4 MB/s eta 0:00:01\n",
      "     -------------------------------------- 250.0/250.0 kB 3.1 MB/s eta 0:00:00\n",
      "Collecting et-xmlfile (from openpyxl)\n",
      "  Downloading et_xmlfile-1.1.0-py3-none-any.whl (4.7 kB)\n",
      "Installing collected packages: et-xmlfile, openpyxl\n",
      "Successfully installed et-xmlfile-1.1.0 openpyxl-3.1.2\n",
      "Note: you may need to restart the kernel to use updated packages.\n"
     ]
    }
   ],
   "source": [
    "pip install openpyxl"
   ]
  },
  {
   "cell_type": "code",
   "execution_count": 19,
   "metadata": {},
   "outputs": [],
   "source": [
    "melon.to_excel('./files/melon.xlsx', index=False)"
   ]
  },
  {
   "attachments": {},
   "cell_type": "markdown",
   "metadata": {},
   "source": [
    "## Bugs"
   ]
  },
  {
   "cell_type": "code",
   "execution_count": 21,
   "metadata": {},
   "outputs": [],
   "source": [
    "url = 'https://music.bugs.co.kr/chart'\n",
    "driver.get(url)\n",
    "\n",
    "html = driver.page_source\n",
    "soup = BeautifulSoup(html, 'html.parser')"
   ]
  },
  {
   "cell_type": "code",
   "execution_count": 23,
   "metadata": {},
   "outputs": [
    {
     "name": "stdout",
     "output_type": "stream",
     "text": [
      "104\n"
     ]
    }
   ],
   "source": [
    "songs = soup.select('tr')\n",
    "print(len(songs))"
   ]
  },
  {
   "cell_type": "code",
   "execution_count": 24,
   "metadata": {},
   "outputs": [
    {
     "name": "stdout",
     "output_type": "stream",
     "text": [
      "103\n"
     ]
    }
   ],
   "source": [
    "songs = soup.select('tbody > tr')\n",
    "print(len(songs))"
   ]
  },
  {
   "cell_type": "code",
   "execution_count": 25,
   "metadata": {},
   "outputs": [
    {
     "name": "stdout",
     "output_type": "stream",
     "text": [
      "100\n"
     ]
    }
   ],
   "source": [
    "songs = soup.select('table.byChart > tbody > tr')\n",
    "print(len(songs))"
   ]
  },
  {
   "cell_type": "code",
   "execution_count": 26,
   "metadata": {},
   "outputs": [
    {
     "name": "stdout",
     "output_type": "stream",
     "text": [
      "<tr albumid=\"31755650\" artistid=\"80286124\" multiartist=\"N\" mvid=\"0\" rowtype=\"track\" trackid=\"103259794\">\n",
      "<input name=\"_isStream\" type=\"hidden\" value=\"103259794\"/>\n",
      "<input name=\"_isDown\" type=\"hidden\" value=\"103259794\"/>\n",
      "<td class=\"check\"><input buyminquality=\"T\" disc_id=\"1\" name=\"check\" title=\"Steal The Show (From “엘리멘탈”)\" type=\"checkbox\" value=\"103259794\"/></td>\n",
      "<td>\n",
      "<div class=\"ranking\">\n",
      "<strong>1</strong>\n",
      "<p class=\"change none\"><em>0</em><span>변동없음</span></p>\n",
      "</div>\n",
      "</td>\n",
      "<td>\n",
      "<a class=\"thumbnail\" href=\"https://music.bugs.co.kr/album/31755650?wl_ref=list_tr_07_chart\" onclick=\"\n",
      "\">\n",
      "<span class=\"mask\"></span>\n",
      "<img alt=\"Steal The Show (From “엘리멘탈”) 대표이미지\" onerror=\"bugs.utils.imgError(this);\" src=\"https://image.bugsm.co.kr/album/images/50/317556/31755650.jpg?version=20230617011201.0\"/>\n",
      "</a>\n",
      "</td>\n",
      "<td>\n",
      "<a class=\"trackInfo\" href=\"https://music.bugs.co.kr/track/103259794?wl_ref=list_tr_08_chart\" onclick=\"\n",
      "\">곡정보</a>\n",
      "</td>\n",
      "<th scope=\"row\">\n",
      "<p adult_yn=\"N\" class=\"title\">\n",
      "<a adultcheckval=\"1\" aria-label=\"새창\" href=\"javascript:;\" onclick=\"bugs.wiselog.area('list_tr_09_chart');bugs.music.listen('103259794',true);\n",
      "\" title=\"Steal The Show (From “엘리멘탈”)\">Steal The Show (From “엘리멘탈”)</a>\n",
      "</p>\n",
      "</th>\n",
      "<td class=\"left\">\n",
      "<p class=\"artist\">\n",
      "<a href=\"https://music.bugs.co.kr/artist/80286124?wl_ref=list_tr_10_chart\" onclick=\"\n",
      "\" title=\"Lauv(라우브)\">Lauv(라우브)</a>\n",
      "</p>\n",
      "</td>\n",
      "<td class=\"left\">\n",
      "<a class=\"album\" href=\"https://music.bugs.co.kr/album/31755650?wl_ref=list_tr_11_chart\" onclick=\"\n",
      "\" title=\"Steal The Show (From “엘리멘탈”)\">Steal The Show (From “엘리멘탈”)</a>\n",
      "</td>\n",
      "<td>\n",
      "<a adultcheckval=\"1\" aria-label=\"새창\" class=\"btn play\" href=\"javascript:;\" onclick=\"bugs.wiselog.area('list_tr_12_chart');bugs.music.listen('103259794',true);\n",
      "\">듣기</a>\n",
      "</td>\n",
      "<td>\n",
      "<a adultcheckval=\"1\" aria-label=\"새창\" class=\"btn addPlaylist\" href=\"javascript:;\" onclick=\"bugs.wiselog.area('list_tr_13_chart');bugs.music.listen('103259794');\n",
      "\">재생목록에 추가</a>\n",
      "</td>\n",
      "<td>\n",
      "<a class=\"btn addAlbum\" href=\"javascript:;\" onclick=\"bugs.wiselog.area('list_tr_14_chart');bugs.music.addTrackToMyAlbum(this,'103259794');\n",
      "\" track_title=\"Steal The Show (From “엘리멘탈”)\">내 앨범에 담기</a>\n",
      "</td>\n",
      "<td>\n",
      "<a adultcheckval=\"1\" aria-label=\"새창\" class=\"btn download flac\" href=\"javascript:;\" onclick=\"bugs.wiselog.area('list_tr_15_chart');bugs.layermenu.down(this,'103259794','true','true','44.1','false','', null );\n",
      "\"><em class=\"flac\">flac </em>다운로드</a>\n",
      "</td>\n",
      "<td>\n",
      "<span class=\"btn viewMV\">영상 재생 불가</span>\n",
      "</td>\n",
      "<td>\n",
      "<a artist_disp_nm=\"Lauv(라우브)\" artist_id=\"80286124\" class=\"btnActions\" href=\"javascript:;\" layer_type=\"CHART\" layerpositiontarget=\"td\" onclick=\"bugs.wiselog.area('list_tr_17_chart');\n",
      "bugs.layermenu.trackMoreAction(this,'103259794','0','31755650','bugs.music.listenRadioFromSeed(\\'103259794\\',\\'track\\');','N', 'Y', '_chart');\n",
      "\" track_title=\"Steal The Show (From “엘리멘탈”)\">기타 기능</a>\n",
      "</td>\n",
      "</tr>\n"
     ]
    }
   ],
   "source": [
    "print(songs[0])"
   ]
  },
  {
   "cell_type": "code",
   "execution_count": 29,
   "metadata": {},
   "outputs": [
    {
     "name": "stdout",
     "output_type": "stream",
     "text": [
      "<tr albumid=\"31755650\" artistid=\"80286124\" multiartist=\"N\" mvid=\"0\" rowtype=\"track\" trackid=\"103259794\">\n",
      "<input name=\"_isStream\" type=\"hidden\" value=\"103259794\"/>\n",
      "<input name=\"_isDown\" type=\"hidden\" value=\"103259794\"/>\n",
      "<td class=\"check\"><input buyminquality=\"T\" disc_id=\"1\" name=\"check\" title=\"Steal The Show (From “엘리멘탈”)\" type=\"checkbox\" value=\"103259794\"/></td>\n",
      "<td>\n",
      "<div class=\"ranking\">\n",
      "<strong>1</strong>\n",
      "<p class=\"change none\"><em>0</em><span>변동없음</span></p>\n",
      "</div>\n",
      "</td>\n",
      "<td>\n",
      "<a class=\"thumbnail\" href=\"https://music.bugs.co.kr/album/31755650?wl_ref=list_tr_07_chart\" onclick=\"\n",
      "\">\n",
      "<span class=\"mask\"></span>\n",
      "<img alt=\"Steal The Show (From “엘리멘탈”) 대표이미지\" onerror=\"bugs.utils.imgError(this);\" src=\"https://image.bugsm.co.kr/album/images/50/317556/31755650.jpg?version=20230617011201.0\"/>\n",
      "</a>\n",
      "</td>\n",
      "<td>\n",
      "<a class=\"trackInfo\" href=\"https://music.bugs.co.kr/track/103259794?wl_ref=list_tr_08_chart\" onclick=\"\n",
      "\">곡정보</a>\n",
      "</td>\n",
      "<th scope=\"row\">\n",
      "<p adult_yn=\"N\" class=\"title\">\n",
      "<a adultcheckval=\"1\" aria-label=\"새창\" href=\"javascript:;\" onclick=\"bugs.wiselog.area('list_tr_09_chart');bugs.music.listen('103259794',true);\n",
      "\" title=\"Steal The Show (From “엘리멘탈”)\">Steal The Show (From “엘리멘탈”)</a>\n",
      "</p>\n",
      "</th>\n",
      "<td class=\"left\">\n",
      "<p class=\"artist\">\n",
      "<a href=\"https://music.bugs.co.kr/artist/80286124?wl_ref=list_tr_10_chart\" onclick=\"\n",
      "\" title=\"Lauv(라우브)\">Lauv(라우브)</a>\n",
      "</p>\n",
      "</td>\n",
      "<td class=\"left\">\n",
      "<a class=\"album\" href=\"https://music.bugs.co.kr/album/31755650?wl_ref=list_tr_11_chart\" onclick=\"\n",
      "\" title=\"Steal The Show (From “엘리멘탈”)\">Steal The Show (From “엘리멘탈”)</a>\n",
      "</td>\n",
      "<td>\n",
      "<a adultcheckval=\"1\" aria-label=\"새창\" class=\"btn play\" href=\"javascript:;\" onclick=\"bugs.wiselog.area('list_tr_12_chart');bugs.music.listen('103259794',true);\n",
      "\">듣기</a>\n",
      "</td>\n",
      "<td>\n",
      "<a adultcheckval=\"1\" aria-label=\"새창\" class=\"btn addPlaylist\" href=\"javascript:;\" onclick=\"bugs.wiselog.area('list_tr_13_chart');bugs.music.listen('103259794');\n",
      "\">재생목록에 추가</a>\n",
      "</td>\n",
      "<td>\n",
      "<a class=\"btn addAlbum\" href=\"javascript:;\" onclick=\"bugs.wiselog.area('list_tr_14_chart');bugs.music.addTrackToMyAlbum(this,'103259794');\n",
      "\" track_title=\"Steal The Show (From “엘리멘탈”)\">내 앨범에 담기</a>\n",
      "</td>\n",
      "<td>\n",
      "<a adultcheckval=\"1\" aria-label=\"새창\" class=\"btn download flac\" href=\"javascript:;\" onclick=\"bugs.wiselog.area('list_tr_15_chart');bugs.layermenu.down(this,'103259794','true','true','44.1','false','', null );\n",
      "\"><em class=\"flac\">flac </em>다운로드</a>\n",
      "</td>\n",
      "<td>\n",
      "<span class=\"btn viewMV\">영상 재생 불가</span>\n",
      "</td>\n",
      "<td>\n",
      "<a artist_disp_nm=\"Lauv(라우브)\" artist_id=\"80286124\" class=\"btnActions\" href=\"javascript:;\" layer_type=\"CHART\" layerpositiontarget=\"td\" onclick=\"bugs.wiselog.area('list_tr_17_chart');\n",
      "bugs.layermenu.trackMoreAction(this,'103259794','0','31755650','bugs.music.listenRadioFromSeed(\\'103259794\\',\\'track\\');','N', 'Y', '_chart');\n",
      "\" track_title=\"Steal The Show (From “엘리멘탈”)\">기타 기능</a>\n",
      "</td>\n",
      "</tr>\n"
     ]
    }
   ],
   "source": [
    "song = songs[0]\n",
    "print(song)"
   ]
  },
  {
   "cell_type": "code",
   "execution_count": 30,
   "metadata": {},
   "outputs": [
    {
     "data": {
      "text/plain": [
       "10"
      ]
     },
     "execution_count": 30,
     "metadata": {},
     "output_type": "execute_result"
    }
   ],
   "source": [
    "title = song.select('a')\n",
    "len(title)"
   ]
  },
  {
   "cell_type": "code",
   "execution_count": 31,
   "metadata": {},
   "outputs": [
    {
     "data": {
      "text/plain": [
       "2"
      ]
     },
     "execution_count": 31,
     "metadata": {},
     "output_type": "execute_result"
    }
   ],
   "source": [
    "title = song.select('p > a')\n",
    "len(title)"
   ]
  },
  {
   "cell_type": "code",
   "execution_count": 33,
   "metadata": {},
   "outputs": [
    {
     "data": {
      "text/plain": [
       "1"
      ]
     },
     "execution_count": 33,
     "metadata": {},
     "output_type": "execute_result"
    }
   ],
   "source": [
    "title = song.select('p.title > a')\n",
    "len(title)"
   ]
  },
  {
   "cell_type": "code",
   "execution_count": 34,
   "metadata": {},
   "outputs": [
    {
     "data": {
      "text/plain": [
       "'Steal The Show (From “엘리멘탈”)'"
      ]
     },
     "execution_count": 34,
     "metadata": {},
     "output_type": "execute_result"
    }
   ],
   "source": [
    "title = song.select('p.title > a')[0].text\n",
    "title"
   ]
  },
  {
   "cell_type": "code",
   "execution_count": 36,
   "metadata": {},
   "outputs": [
    {
     "data": {
      "text/plain": [
       "'Lauv(라우브)'"
      ]
     },
     "execution_count": 36,
     "metadata": {},
     "output_type": "execute_result"
    }
   ],
   "source": [
    "singer = song.select('p.artist > a')[0].text\n",
    "singer"
   ]
  },
  {
   "cell_type": "code",
   "execution_count": 37,
   "metadata": {},
   "outputs": [
    {
     "name": "stdout",
     "output_type": "stream",
     "text": [
      "Steal The Show (From “엘리멘탈”)|Lauv(라우브)\n",
      "퀸카 (Queencard)|(여자)아이들\n",
      "I AM|IVE (아이브)\n",
      "이브, 프시케 그리고 푸른 수염의 아내|LE SSERAFIM (르세라핌)\n",
      "Spicy|aespa\n",
      "Kitsch|IVE (아이브)\n",
      "헤어지자 말해요|박재정\n",
      "UNFORGIVEN (feat. Nile Rodgers)|LE SSERAFIM (르세라핌)\n",
      "Hype Boy|NewJeans\n",
      "HARD|SHINee (샤이니)\n",
      "Ditto|NewJeans\n",
      "Cupid|FIFTY FIFTY\n",
      "손오공|세븐틴(SEVENTEEN)\n",
      "Attention|NewJeans\n",
      "Thirsty|aespa\n",
      "After LIKE|IVE (아이브)\n",
      "OMG|NewJeans\n",
      "KNOCK|이채연\n",
      "건물 사이에 피어난 장미 (Rose Blossom)|H1-KEY (하이키)\n",
      "LOVE DIVE|IVE (아이브)\n",
      "Dangerously|Charlie Puth(찰리 푸스)\n",
      "너에게 닿을게|정승환\n",
      "꽃|지수(JISOO)\n",
      "I Don’t Think That I Like Her|Charlie Puth(찰리 푸스)\n",
      "Teddy Bear|STAYC(스테이씨)\n",
      "사건의 지평선|윤하(Younha/ユンナ)\n",
      "파이팅 해야지 (Feat. 이영지)|부석순(SEVENTEEN)\n",
      "Allergy|(여자)아이들\n",
      "When I Get Old|Christopher(크리스토퍼)\n",
      "ANTIFRAGILE|LE SSERAFIM (르세라핌)\n",
      "한 페이지가 될 수 있게|DAY6 (데이식스)\n",
      "That’s Not How This Works (feat. Dan + Shay)|Charlie Puth(찰리 푸스)\n",
      "심(心)|DK(디셈버)\n",
      "잠깐 시간 될까|이무진\n",
      "SOS|강다니엘(KANG DANIEL)\n",
      "사랑인가 봐|멜로망스(MeloMance)\n",
      "특|Stray Kids (스트레이 키즈)\n",
      "빛이 나는 너에게|던 (DAWN)\n",
      "주저하는 연인들을 위해|잔나비\n",
      "오르트구름|윤하(Younha/ユンナ)\n",
      "너의 모든 순간|성시경\n",
      "STAY|The Kid LAROI\n",
      "사실말야내가말야그게그러니까말이야|케이시\n",
      "Love Me Like This|NMIXX\n",
      "Pink Venom|BLACKPINK\n",
      "Shut Down|BLACKPINK\n",
      "그라데이션|10CM\n",
      "ELEVEN|IVE (아이브)\n",
      "That's Hilarious|Charlie Puth(찰리 푸스)\n",
      "INVU|태연 (TAEYEON)\n",
      "FEARLESS|LE SSERAFIM (르세라핌)\n",
      "사랑의 바보|제이세라(J-Cera)\n",
      "Off My Face|Justin Bieber(저스틴 비버)\n",
      "나의 바람 (Wind And Wish)|비투비\n",
      "TOMBOY|(여자)아이들\n",
      "한강에서 (Feat. BIG Naughty)|폴킴(Paul Kim)\n",
      "찬란한 하루|멜로망스(MeloMance)\n",
      "Salty & Sweet|aespa\n",
      "모든 날, 모든 순간 (Every day, Every Moment)|폴킴(Paul Kim)\n",
      "그때 그 순간 그대로 (그그그)|WSG워너비 (가야G)\n",
      "취중고백|김민석 (멜로망스)\n",
      "다정히 내 이름을 부르면|경서예지\n",
      "Broken Melodies|NCT DREAM\n",
      "Cookie|NewJeans\n",
      "Underwater|권은비\n",
      "Say I Love You|우디(Woody)\n",
      "나에게 그대만이|탑현\n",
      "Candy|NCT DREAM\n",
      "희재|이홍기 (FT아일랜드)\n",
      "Dynamite|방탄소년단\n",
      "Monologue|테이(Tei)\n",
      "도깨비불 (Illusion)|aespa\n",
      "물론|허각\n",
      "Heaven(2023)|임재현\n",
      "사랑은 늘 도망가|임영웅\n",
      "VIBE (feat. Jimin of BTS)|태양\n",
      "CHRISTIAN|지올팍(Zior Park)\n",
      "해요 (2022)|#안녕\n",
      "사랑..그게 뭔데|지아(Zia)\n",
      "드라마|아이유(IU)\n",
      "사랑하지 않아서 그랬니|지아(Zia)\n",
      "Nxde|(여자)아이들\n",
      "Left and Right (Feat. Jung Kook of BTS)|Charlie Puth(찰리 푸스)\n",
      "겁도 없이 (feat. BIG Naughty)|B.I(비아이)\n",
      "Feel My Rhythm|Red Velvet (레드벨벳)\n",
      "정이라고 하자 (Feat. 10CM)|BIG Naughty (서동현)\n",
      "몇 번의 여름 (여름날 우리 X TOIL, Gist)|TOIL\n",
      "Poppy (Korean Ver.)|STAYC(스테이씨)\n",
      "Candy (Feat. Zion.T)|박재범\n",
      "Satellite|SHINee (샤이니)\n",
      "나의 X에게|경서\n",
      "Cupid (Twin Ver.)|FIFTY FIFTY\n",
      "새삥 (Prod. ZICO) (Feat. 호미들)|지코 (ZICO)\n",
      "strawberry moon|아이유(IU)\n",
      "FRIEND THE END|볼빨간사춘기\n",
      "딱 10CM만|10CM\n",
      "WHEN I MOVE|카라(Kara)\n",
      "Unholy|Sam Smith(샘 스미스)\n",
      "부동의 첫사랑|10CM\n",
      "Rush Hour (Feat. j-hope of BTS)|Crush\n"
     ]
    }
   ],
   "source": [
    "songs = soup.select('table.byChart > tbody > tr')\n",
    "\n",
    "for song in songs:\n",
    "    title = song.select('p.title > a')[0].text\n",
    "    singer = song.select('p.artist > a')[0].text\n",
    "    print(title, singer, sep = '|')"
   ]
  },
  {
   "cell_type": "code",
   "execution_count": 40,
   "metadata": {},
   "outputs": [],
   "source": [
    "song_data = []\n",
    "rank = 1\n",
    "songs = soup.select('table.byChart > tbody > tr')\n",
    "\n",
    "for song in songs:\n",
    "    title =  song.select('p.title > a')[0].text\n",
    "    singer = song.select('p.artist > a')[0].text\n",
    "    song_data.append(['Bugs', rank, title, singer])\n",
    "    rank = rank + 1"
   ]
  },
  {
   "cell_type": "code",
   "execution_count": 41,
   "metadata": {},
   "outputs": [
    {
     "name": "stdout",
     "output_type": "stream",
     "text": [
      "<class 'pandas.core.frame.DataFrame'>\n",
      "RangeIndex: 100 entries, 0 to 99\n",
      "Data columns (total 4 columns):\n",
      " #   Column   Non-Null Count  Dtype \n",
      "---  ------   --------------  ----- \n",
      " 0   Service  100 non-null    object\n",
      " 1   Rank     100 non-null    int64 \n",
      " 2   Title    100 non-null    object\n",
      " 3   Singer   100 non-null    object\n",
      "dtypes: int64(1), object(3)\n",
      "memory usage: 3.3+ KB\n"
     ]
    }
   ],
   "source": [
    "columns = ['Service', 'Rank', 'Title', 'Singer']\n",
    "Bugs = pd.DataFrame(song_data, columns=columns)\n",
    "Bugs.info()"
   ]
  },
  {
   "cell_type": "code",
   "execution_count": 42,
   "metadata": {},
   "outputs": [],
   "source": [
    "Bugs.to_excel('./files/bugs.xlsx', index=False)"
   ]
  },
  {
   "attachments": {},
   "cell_type": "markdown",
   "metadata": {},
   "source": [
    "## Genie"
   ]
  },
  {
   "cell_type": "code",
   "execution_count": 44,
   "metadata": {},
   "outputs": [],
   "source": [
    "url = 'https://www.genie.co.kr/chart/top200'\n",
    "driver.get(url)\n",
    "\n",
    "html = driver.page_source\n",
    "soup = BeautifulSoup(html, 'html.parser')"
   ]
  },
  {
   "cell_type": "code",
   "execution_count": 45,
   "metadata": {},
   "outputs": [
    {
     "data": {
      "text/plain": [
       "50"
      ]
     },
     "execution_count": 45,
     "metadata": {},
     "output_type": "execute_result"
    }
   ],
   "source": [
    "songs = soup.select('table > tbody > tr')\n",
    "len(songs)"
   ]
  },
  {
   "cell_type": "code",
   "execution_count": 46,
   "metadata": {},
   "outputs": [
    {
     "name": "stdout",
     "output_type": "stream",
     "text": [
      "<tr class=\"list\" songid=\"101686193\">\n",
      "<td class=\"check\"><input class=\"select-check\" title=\"퀸카 (Queencard)\" type=\"checkbox\"/></td>\n",
      "<td class=\"number\">1\n",
      "                                        \n",
      "                                    <span class=\"rank\">\n",
      "<span class=\"rank\"><span class=\"rank-none\"><span class=\"hide\">유지</span></span></span>\n",
      "</span>\n",
      "</td>\n",
      "<td><a class=\"cover\" href=\"#\" onclick=\"fnViewAlbumLayer('83810194');return false;\"><span class=\"mask\"></span><img alt=\"I feel\" onerror=\"this.src='//image.genie.co.kr/imageg/web/common/blank_68.gif';\" src=\"//image.genie.co.kr/Y/IMAGE/IMG_ALBUM/083/810/194/83810194_1684117368811_1_140x140.JPG/dims/resize/Q_80,0\"/></a></td>\n",
      "<td class=\"link\"><a class=\"btn-basic btn-info\" href=\"#\" onclick=\"fnViewSongInfo('101686193');return false;\">곡 제목 정보 페이지</a></td>\n",
      "<td class=\"info\">\n",
      "<a class=\"title ellipsis\" href=\"#\" onclick=\"fnPlaySong('101686193','1');return false;\" title=\"재생\">\n",
      "                                        \n",
      "                                            \n",
      "                                        \n",
      "                                        \n",
      "                                        \n",
      "                                        \n",
      "                                            \n",
      "                                                퀸카 (Queencard)</a>\n",
      "<a class=\"artist ellipsis\" href=\"#\" onclick=\"fnViewArtist('80632010');return false;\">(여자)아이들</a>\n",
      "<div class=\"toggle-button-box\">\n",
      "<button class=\"btn artist-etc\" onclick=\"fnRelationArtistList('101686193');\" type=\"button\">외</button>\n",
      "<ul class=\"list\" id=\"RelationArtist_101686193\"></ul>\n",
      "</div>\n",
      "<i class=\"bar\">|</i>\n",
      "<a class=\"albumtitle ellipsis\" href=\"#\" onclick=\"fnViewAlbumLayer('83810194');return false;\">I feel</a>\n",
      "</td>\n",
      "<td class=\"btns\"><a class=\"btn-basic btn-listen\" href=\"#\" onclick=\"fnPlaySong('101686193;' ,'1'); return false;\" title=\"재생\">듣기</a></td>\n",
      "<td class=\"btns\"><a class=\"btn-basic btn-add\" href=\"#\" onclick=\"fnPlaySong('101686193;' ,'3'); return false;\" title=\"추가\">재생목록에 추가</a></td>\n",
      "<td class=\"btns\"><button class=\"btn-basic btn-album\" id=\"add_my_album_101686193\" onclick=\"fnAddMyAlbumForm('#add_my_album_101686193' , '101686193' ,10, 10);return false;\" songid=\"101686193\" type=\"button\">플레이리스트에 담기</button></td>\n",
      "<td class=\"btns\"><a class=\"btn-basic btn-down\" href=\"#\" onclick=\"fnDownSong('101686193');return false;\" title=\"다운\">다운로드</a></td>\n",
      "<td class=\"btns\">\n",
      "<div class=\"toggle-button-box lyr-mv\" id=\"list-mv_101686193\">\n",
      "<a alt=\"퀸카 (Queencard)\" class=\"btn btn-basic btn-mv\" href=\"#\" onclick=\"fnPlayMv('101686193','3'); return false;\" title=\"뮤비\">뮤직비디오 보기</a>\n",
      "</div>\n",
      "</td>\n",
      "<td class=\"more\">\n",
      "<div class=\"toggle-button-box\">\n",
      "<button class=\"btn btn-basic btn-more\" type=\"button\">더보기</button>\n",
      "<ul class=\"list\">\n",
      "<li><a class=\"item\" href=\"#\" onclick=\"shareDo('101686193');return false;\" title=\"공유\">공유하기/음악나누기</a></li>\n",
      "<li><a class=\"item\" href=\"#\" onclick=\"fnGiftSong('101686193');return false;\" title=\"선물\">선물하기</a></li>\n",
      "</ul>\n",
      "</div>\n",
      "</td>\n",
      "</tr>\n"
     ]
    }
   ],
   "source": [
    "print(songs[0])"
   ]
  },
  {
   "cell_type": "code",
   "execution_count": 47,
   "metadata": {},
   "outputs": [],
   "source": [
    "song = songs[0]"
   ]
  },
  {
   "cell_type": "code",
   "execution_count": 48,
   "metadata": {},
   "outputs": [
    {
     "data": {
      "text/plain": [
       "1"
      ]
     },
     "execution_count": 48,
     "metadata": {},
     "output_type": "execute_result"
    }
   ],
   "source": [
    "title = song.select('a.title')\n",
    "len(title)"
   ]
  },
  {
   "cell_type": "code",
   "execution_count": 49,
   "metadata": {},
   "outputs": [
    {
     "data": {
      "text/plain": [
       "'\\n                                        \\n                                            \\n                                        \\n                                        \\n                                        \\n                                        \\n                                            \\n                                                퀸카 (Queencard)'"
      ]
     },
     "execution_count": 49,
     "metadata": {},
     "output_type": "execute_result"
    }
   ],
   "source": [
    "title = title[0].text\n",
    "title"
   ]
  },
  {
   "cell_type": "code",
   "execution_count": 50,
   "metadata": {},
   "outputs": [
    {
     "data": {
      "text/plain": [
       "'퀸카 (Queencard)'"
      ]
     },
     "execution_count": 50,
     "metadata": {},
     "output_type": "execute_result"
    }
   ],
   "source": [
    "title = title.strip()\n",
    "title"
   ]
  },
  {
   "cell_type": "code",
   "execution_count": 52,
   "metadata": {},
   "outputs": [
    {
     "data": {
      "text/plain": [
       "1"
      ]
     },
     "execution_count": 52,
     "metadata": {},
     "output_type": "execute_result"
    }
   ],
   "source": [
    "singer = song.select('a.artist')\n",
    "len(singer)"
   ]
  },
  {
   "cell_type": "code",
   "execution_count": 53,
   "metadata": {},
   "outputs": [
    {
     "data": {
      "text/plain": [
       "'(여자)아이들'"
      ]
     },
     "execution_count": 53,
     "metadata": {},
     "output_type": "execute_result"
    }
   ],
   "source": [
    "singer = song.select('a.artist')[0].text\n",
    "singer"
   ]
  },
  {
   "cell_type": "code",
   "execution_count": 55,
   "metadata": {},
   "outputs": [
    {
     "name": "stdout",
     "output_type": "stream",
     "text": [
      "퀸카 (Queencard)|(여자)아이들\n",
      "I AM|IVE (아이브)\n",
      "이브, 프시케 그리고 푸른 수염의 아내|LE SSERAFIM (르세라핌)\n",
      "Spicy|aespa\n",
      "Kitsch|IVE (아이브)\n",
      "헤어지자 말해요|박재정\n",
      "UNFORGIVEN (Feat. Nile Rodgers)|LE SSERAFIM (르세라핌)\n",
      "사랑은 늘 도망가|임영웅\n",
      "Hype boy|NewJeans\n",
      "우리들의 블루스|임영웅\n",
      "모래 알갱이|임영웅\n",
      "다시 만날 수 있을까|임영웅\n",
      "이제 나만 믿어요|임영웅\n",
      "무지개|임영웅\n",
      "London Boy|임영웅\n",
      "Polaroid|임영웅\n",
      "아버지|임영웅\n",
      "사건의 지평선|윤하 (YOUNHA)\n",
      "꽃|지수 (JISOO)\n",
      "A bientot|임영웅\n",
      "손이 참 곱던 그대|임영웅\n",
      "Ditto|NewJeans\n",
      "사랑해 진짜|임영웅\n",
      "연애편지|임영웅\n",
      "보금자리|임영웅\n",
      "인생찬가|임영웅\n",
      "I Don't Think That I Like Her|Charlie Puth\n",
      "LOVE DIVE|IVE (아이브)\n",
      "Attention|NewJeans\n",
      "손오공|세븐틴 (SEVENTEEN)\n",
      "After LIKE|IVE (아이브)\n",
      "심 (心)|DK (디셈버)\n",
      "Cupid|FIFTY FIFTY\n",
      "OMG|NewJeans\n",
      "Dangerously|Charlie Puth\n",
      "HARD|SHINee (샤이니)\n",
      "파이팅 해야지 (Feat. 이영지)|부석순 (SEVENTEEN)\n",
      "Teddy Bear|STAYC (스테이씨)\n",
      "건물 사이에 피어난 장미|H1-KEY (하이키)\n",
      "사랑의 바보|제이세라 (J-Cera)\n",
      "TOMBOY|(여자)아이들\n",
      "사랑하지 않아서 그랬니|지아 (Zia)\n",
      "ANTIFRAGILE|LE SSERAFIM (르세라핌)\n",
      "Steal The Show|Lauv\n",
      "사랑인가 봐|멜로망스 (MeloMance)\n",
      "너에게 닿을게|정승환\n",
      "That's Hilarious|Charlie Puth\n",
      "When I Get Old|Christopher & 청하\n",
      "CHRISTIAN|Zior Park\n",
      "KNOCK|이채연\n"
     ]
    }
   ],
   "source": [
    "songs = soup.select('tbody > tr')\n",
    "\n",
    "for song in songs:\n",
    "    title = song.select('a.title')[0].text.strip()\n",
    "    singer = song.select('a.artist')[0].text\n",
    "    print(title, singer, sep='|')"
   ]
  },
  {
   "cell_type": "code",
   "execution_count": 57,
   "metadata": {},
   "outputs": [],
   "source": [
    "song_data = []\n",
    "rank = 1\n",
    "songs = soup.select('table > tbody > tr')\n",
    "for song in songs:\n",
    "    title = song.select('a.title')[0].text.strip()\n",
    "    singer = song.select('a.artist')[0].text.strip()\n",
    "    song_data.append(['Genie', rank, title, singer])\n",
    "    rank = rank + 1"
   ]
  },
  {
   "cell_type": "code",
   "execution_count": 58,
   "metadata": {},
   "outputs": [],
   "source": [
    "columns = ['Service', 'Rank', 'Title', 'Singer']\n",
    "genie = pd.DataFrame(song_data, columns = columns)\n",
    "genie.to_excel('./files/genie.xlsx', index=False)"
   ]
  },
  {
   "attachments": {},
   "cell_type": "markdown",
   "metadata": {},
   "source": [
    "## Excel Merge"
   ]
  },
  {
   "cell_type": "code",
   "execution_count": 62,
   "metadata": {},
   "outputs": [
    {
     "name": "stdout",
     "output_type": "stream",
     "text": [
      "    Service  Rank                            Title              Singer\n",
      "0     Melon     1                   퀸카 (Queencard)             (여자)아이들\n",
      "1     Melon     2                             I AM           IVE (아이브)\n",
      "2     Melon     3            이브, 프시케 그리고 푸른 수염의 아내  LE SSERAFIM (르세라핌)\n",
      "3     Melon     4                            Spicy               aespa\n",
      "4     Melon     5  UNFORGIVEN (feat. Nile Rodgers)  LE SSERAFIM (르세라핌)\n",
      "..      ...   ...                              ...                 ...\n",
      "245   Genie    46                          너에게 닿을게                 정승환\n",
      "246   Genie    47                 That's Hilarious        Charlie Puth\n",
      "247   Genie    48                   When I Get Old    Christopher & 청하\n",
      "248   Genie    49                        CHRISTIAN           Zior Park\n",
      "249   Genie    50                            KNOCK                 이채연\n",
      "\n",
      "[250 rows x 4 columns]\n"
     ]
    }
   ],
   "source": [
    "import pandas as pd\n",
    "\n",
    "excel_names = ['./files/melon.xlsx', './files/bugs.xlsx', './files/genie.xlsx']\n",
    "dfs = []\n",
    "\n",
    "for name in excel_names:\n",
    "    pd_data = pd.read_excel(name)\n",
    "    dfs.append(pd_data)\n",
    "    \n",
    "appended_data = pd.concat(dfs, ignore_index=True)\n",
    "\n",
    "print(appended_data)"
   ]
  },
  {
   "cell_type": "code",
   "execution_count": 63,
   "metadata": {},
   "outputs": [
    {
     "name": "stdout",
     "output_type": "stream",
     "text": [
      "<class 'pandas.core.frame.DataFrame'>\n",
      "RangeIndex: 250 entries, 0 to 249\n",
      "Data columns (total 4 columns):\n",
      " #   Column   Non-Null Count  Dtype \n",
      "---  ------   --------------  ----- \n",
      " 0   Service  250 non-null    object\n",
      " 1   Rank     250 non-null    int64 \n",
      " 2   Title    250 non-null    object\n",
      " 3   Singer   250 non-null    object\n",
      "dtypes: int64(1), object(3)\n",
      "memory usage: 7.9+ KB\n"
     ]
    }
   ],
   "source": [
    "appended_data.info()"
   ]
  },
  {
   "cell_type": "code",
   "execution_count": 64,
   "metadata": {},
   "outputs": [],
   "source": [
    "appended_data.to_excel('./files/total.xlsx', index=False)"
   ]
  },
  {
   "attachments": {},
   "cell_type": "markdown",
   "metadata": {},
   "source": [
    "## Youtube Rank"
   ]
  },
  {
   "cell_type": "code",
   "execution_count": 3,
   "metadata": {},
   "outputs": [],
   "source": [
    "import time"
   ]
  },
  {
   "cell_type": "code",
   "execution_count": 4,
   "metadata": {},
   "outputs": [],
   "source": [
    "url = 'https://youtube-rank.com/board/bbs/board.php?bo_table=youtube&page='\n",
    "driver = webdriver.Chrome(service=ChromeService(ChromeDriverManager().install()))\n",
    "driver.get(url)\n",
    "\n",
    "html = driver.page_source\n",
    "soup = BeautifulSoup(html, 'html.parser')"
   ]
  },
  {
   "cell_type": "code",
   "execution_count": 5,
   "metadata": {},
   "outputs": [
    {
     "name": "stdout",
     "output_type": "stream",
     "text": [
      "102 \n",
      "\n",
      "<tr>\n",
      "<th class=\"rank\"><a href=\"/board/bbs/board.php?bo_table=youtube&amp;sop=and&amp;sst=rank&amp;sod=desc&amp;sfl=&amp;stx=&amp;sca=&amp;page=1\">순위 <i aria-hidden=\"true\" class=\"fa fa-sort\"></i></a></th>\n",
      "<th class=\"td_img\">이미지</th>\n",
      "<th class=\"subject\">제목</th>\n",
      "<th class=\"subscriber_cnt\"><a href=\"/board/bbs/board.php?bo_table=youtube&amp;sop=and&amp;sst=subscriber_cnt&amp;sod=desc&amp;sfl=&amp;stx=&amp;sca=&amp;page=1\">구독자순 <i aria-hidden=\"true\" class=\"fa fa-sort\"></i></a></th>\n",
      "<th class=\"view_cnt\"><a href=\"/board/bbs/board.php?bo_table=youtube&amp;sop=and&amp;sst=view_cnt&amp;sod=desc&amp;sfl=&amp;stx=&amp;sca=&amp;page=1\">View순 <i aria-hidden=\"true\" class=\"fa fa-sort\"></i></a></th>\n",
      "<th class=\"video_cnt\"><a href=\"/board/bbs/board.php?bo_table=youtube&amp;sop=and&amp;sst=video_cnt&amp;sod=desc&amp;sfl=&amp;stx=&amp;sca=&amp;page=1\">Video순 <i aria-hidden=\"true\" class=\"fa fa-sort\"></i></a></th>\n",
      "<th class=\"hit\"><a href=\"/board/bbs/board.php?bo_table=youtube&amp;sop=and&amp;sst=wr_hit&amp;sod=desc&amp;sfl=&amp;stx=&amp;sca=&amp;page=1\">조회수 <i aria-hidden=\"true\" class=\"fa fa-sort\"></i></a></th>\n",
      "</tr>\n"
     ]
    }
   ],
   "source": [
    "channel_list = soup.select('tr')\n",
    "print(len(channel_list), '\\n')\n",
    "print(channel_list[0])"
   ]
  },
  {
   "cell_type": "code",
   "execution_count": 6,
   "metadata": {},
   "outputs": [
    {
     "name": "stdout",
     "output_type": "stream",
     "text": [
      "100\n"
     ]
    }
   ],
   "source": [
    "channel_list = soup.select('form > table > tbody > tr')\n",
    "print(len(channel_list))"
   ]
  },
  {
   "cell_type": "code",
   "execution_count": 7,
   "metadata": {},
   "outputs": [
    {
     "name": "stdout",
     "output_type": "stream",
     "text": [
      "<tr class=\"aos-init aos-animate\" data-aos=\"fade-up\" data-aos-duration=\"800\">\n",
      "<td class=\"rank\">\n",
      "                        1                    </td>\n",
      "<td class=\"td_img\">\n",
      "<div class=\"info_img\"><a href=\"https://youtube-rank.com/board/bbs/board.php?bo_table=youtube&amp;wr_id=3203\"><img class=\"lazyload\" data-src=\"https://yt3.ggpht.com/hZDUwjoeQqigphL4A1tkg9c6hVp5yXmbboBR7PYFUSFj5PIJSA483NB5v7b0XVoTN9GCku3tqQ=s88-c-k-c0x00ffffff-no-nd-rj\" height=\"88\" src=\"https://yt3.ggpht.com/hZDUwjoeQqigphL4A1tkg9c6hVp5yXmbboBR7PYFUSFj5PIJSA483NB5v7b0XVoTN9GCku3tqQ=s88-c-k-c0x00ffffff-no-nd-rj\" width=\"88\"/></a></div>\n",
      "<p class=\"info_rank\">1</p>\n",
      "</td>\n",
      "<td class=\"subject\">\n",
      "<h1>\n",
      "<p <a=\"\" class=\"category\" href=\"https://youtube-rank.com/board/bbs/board.php?bo_table=youtube&amp;sca=%EC%9D%8C%EC%95%85%2F%EB%8C%84%EC%8A%A4%2F%EA%B0%80%EC%88%98\">[음악/댄스/가수]\n",
      "                                \n",
      "                                </p>\n",
      "<a href=\"https://youtube-rank.com/board/bbs/board.php?bo_table=youtube&amp;wr_id=3203\">\n",
      "\t\t\t\t\t\t\t\t\n",
      "\t\t\t\t\t\t\t\tBLACKPINK\t\t\t\t\t\t\t</a>\n",
      "<span>\n",
      "<i class=\"fa fa-comment\"></i>\n",
      "\t\t\t\t\t\t\t\t1\t\t\t\t\t\t\t</span>\n",
      "<i aria-hidden=\"true\" class=\"fa fa-heart\"></i> </h1>\n",
      "<h2><span><a href=\"https://youtube-rank.com/board/bbs/board.php?bo_table=youtube&amp;wr_id=3203\">\"YG Entertainment\" YG 와이지 K-pop BLACKPINK 블랙핑크 블핑 제니 로제 리사 지수 Lisa Jisoo Jennie ...</a></span></h2>\n",
      "<h3>\n",
      "<i class=\"fa fa-user\"></i>\n",
      "                            8960만<i class=\"fa fa-play\"></i>319억6888만                            <i class=\"fa fa-video-camera\"></i>\n",
      "                            535                            <i class=\"fa fa-eye\"></i>\n",
      "                            27,330                        </h3>\n",
      "</td>\n",
      "<td class=\"subscriber_cnt\">8960만</td>\n",
      "<td class=\"view_cnt\">319억6888만</td>\n",
      "<td class=\"video_cnt\">535개</td>\n",
      "<td class=\"hit\">\n",
      "<strong>27,330</strong>\n",
      "<span>HIT</span>\n",
      "</td>\n",
      "</tr>\n"
     ]
    }
   ],
   "source": [
    "channel = channel_list[0]\n",
    "print(channel)"
   ]
  },
  {
   "cell_type": "code",
   "execution_count": 8,
   "metadata": {},
   "outputs": [
    {
     "name": "stdout",
     "output_type": "stream",
     "text": [
      "[음악/댄스/가수]\n"
     ]
    }
   ],
   "source": [
    "category = channel.select('p.category')[0].text.strip()\n",
    "print(category)"
   ]
  },
  {
   "cell_type": "code",
   "execution_count": 9,
   "metadata": {},
   "outputs": [
    {
     "name": "stdout",
     "output_type": "stream",
     "text": [
      "BLACKPINK\n"
     ]
    }
   ],
   "source": [
    "title = channel.select('h1 > a')[0].text.strip()\n",
    "print(title)"
   ]
  },
  {
   "cell_type": "code",
   "execution_count": 10,
   "metadata": {},
   "outputs": [
    {
     "name": "stdout",
     "output_type": "stream",
     "text": [
      "8960만\n",
      "319억6888만\n",
      "535개\n"
     ]
    }
   ],
   "source": [
    "subscriber = channel.select('.subscriber_cnt')[0].text\n",
    "view = channel.select('.view_cnt')[0].text\n",
    "video = channel.select('.video_cnt')[0].text\n",
    "\n",
    "print(subscriber)\n",
    "print(view)\n",
    "print(video)"
   ]
  },
  {
   "cell_type": "code",
   "execution_count": 11,
   "metadata": {},
   "outputs": [],
   "source": [
    "result = []\n",
    "for page in range(1, 11):\n",
    "    url = f\"https://youtube-rank.com/board/bbs/board.php?bo_table=youtube&page={page}\"\n",
    "    driver.get(url)\n",
    "    \n",
    "    time.sleep(2)\n",
    "    \n",
    "    html = driver.page_source\n",
    "    soup = BeautifulSoup(html, 'html.parser')\n",
    "\n",
    "    channel_list = soup.select('form > table > tbody > tr')\n",
    "    \n",
    "    for channel in channel_list:\n",
    "        title = channel.select('h1 > a')[0].text.strip()\n",
    "        category = channel.select('p.category')[0].text.strip()\n",
    "        subscriber = channel.select('.subscriber_cnt')[0].text\n",
    "        view = channel.select('.view_cnt')[0].text\n",
    "        video = channel.select('.video_cnt')[0].text\n",
    "        data = [title, category, subscriber, view, video]\n",
    "        result.append(data)"
   ]
  },
  {
   "cell_type": "code",
   "execution_count": 15,
   "metadata": {},
   "outputs": [],
   "source": [
    "df = pd.DataFrame(result)\n",
    "df.columns = ['Title', 'Category', 'Subscriber', 'View', 'Video']\n",
    "df.to_excel('./files/youtube_rank.xlsx', index=False)"
   ]
  },
  {
   "cell_type": "code",
   "execution_count": 16,
   "metadata": {},
   "outputs": [],
   "source": [
    "# Visualizing\n",
    "import matplotlib.pyplot as plt"
   ]
  },
  {
   "cell_type": "code",
   "execution_count": 17,
   "metadata": {},
   "outputs": [],
   "source": [
    "from matplotlib import font_manager, rc\n",
    "import platform\n",
    "\n",
    "path = 'C:/Windows/Fonts/malgun.ttf'\n",
    "font_name = font_manager.FontProperties(fname = path).get_name()\n",
    "rc('font', family = font_name)"
   ]
  },
  {
   "cell_type": "code",
   "execution_count": 18,
   "metadata": {},
   "outputs": [
    {
     "data": {
      "text/html": [
       "<div>\n",
       "<style scoped>\n",
       "    .dataframe tbody tr th:only-of-type {\n",
       "        vertical-align: middle;\n",
       "    }\n",
       "\n",
       "    .dataframe tbody tr th {\n",
       "        vertical-align: top;\n",
       "    }\n",
       "\n",
       "    .dataframe thead th {\n",
       "        text-align: right;\n",
       "    }\n",
       "</style>\n",
       "<table border=\"1\" class=\"dataframe\">\n",
       "  <thead>\n",
       "    <tr style=\"text-align: right;\">\n",
       "      <th></th>\n",
       "      <th>Title</th>\n",
       "      <th>Category</th>\n",
       "      <th>Subscriber</th>\n",
       "      <th>View</th>\n",
       "      <th>Video</th>\n",
       "    </tr>\n",
       "  </thead>\n",
       "  <tbody>\n",
       "    <tr>\n",
       "      <th>0</th>\n",
       "      <td>BLACKPINK</td>\n",
       "      <td>[음악/댄스/가수]</td>\n",
       "      <td>8960만</td>\n",
       "      <td>319억6888만</td>\n",
       "      <td>535개</td>\n",
       "    </tr>\n",
       "    <tr>\n",
       "      <th>1</th>\n",
       "      <td>BANGTANTV</td>\n",
       "      <td>[음악/댄스/가수]</td>\n",
       "      <td>7550만</td>\n",
       "      <td>207억5326만</td>\n",
       "      <td>2,249개</td>\n",
       "    </tr>\n",
       "    <tr>\n",
       "      <th>2</th>\n",
       "      <td>HYBE LABELS</td>\n",
       "      <td>[음악/댄스/가수]</td>\n",
       "      <td>7100만</td>\n",
       "      <td>284억5091만</td>\n",
       "      <td>1,306개</td>\n",
       "    </tr>\n",
       "    <tr>\n",
       "      <th>3</th>\n",
       "      <td>SMTOWN</td>\n",
       "      <td>[음악/댄스/가수]</td>\n",
       "      <td>3180만</td>\n",
       "      <td>272억6233만</td>\n",
       "      <td>4,143개</td>\n",
       "    </tr>\n",
       "    <tr>\n",
       "      <th>4</th>\n",
       "      <td>JYP Entertainment</td>\n",
       "      <td>[음악/댄스/가수]</td>\n",
       "      <td>2730만</td>\n",
       "      <td>197억7223만</td>\n",
       "      <td>1,719개</td>\n",
       "    </tr>\n",
       "  </tbody>\n",
       "</table>\n",
       "</div>"
      ],
      "text/plain": [
       "               Title    Category Subscriber       View   Video\n",
       "0          BLACKPINK  [음악/댄스/가수]      8960만  319억6888만    535개\n",
       "1          BANGTANTV  [음악/댄스/가수]      7550만  207억5326만  2,249개\n",
       "2        HYBE LABELS  [음악/댄스/가수]      7100만  284억5091만  1,306개\n",
       "3             SMTOWN  [음악/댄스/가수]      3180만  272억6233만  4,143개\n",
       "4  JYP Entertainment  [음악/댄스/가수]      2730만  197억7223만  1,719개"
      ]
     },
     "execution_count": 18,
     "metadata": {},
     "output_type": "execute_result"
    }
   ],
   "source": [
    "df = pd.read_excel('./files/youtube_rank.xlsx')\n",
    "df.head()"
   ]
  },
  {
   "cell_type": "code",
   "execution_count": 19,
   "metadata": {},
   "outputs": [
    {
     "data": {
      "text/html": [
       "<div>\n",
       "<style scoped>\n",
       "    .dataframe tbody tr th:only-of-type {\n",
       "        vertical-align: middle;\n",
       "    }\n",
       "\n",
       "    .dataframe tbody tr th {\n",
       "        vertical-align: top;\n",
       "    }\n",
       "\n",
       "    .dataframe thead th {\n",
       "        text-align: right;\n",
       "    }\n",
       "</style>\n",
       "<table border=\"1\" class=\"dataframe\">\n",
       "  <thead>\n",
       "    <tr style=\"text-align: right;\">\n",
       "      <th></th>\n",
       "      <th>Title</th>\n",
       "      <th>Category</th>\n",
       "      <th>Subscriber</th>\n",
       "      <th>View</th>\n",
       "      <th>Video</th>\n",
       "    </tr>\n",
       "  </thead>\n",
       "  <tbody>\n",
       "    <tr>\n",
       "      <th>995</th>\n",
       "      <td>뽀로로 타요 장난감 놀이교실</td>\n",
       "      <td>[키즈/어린이]</td>\n",
       "      <td>75만</td>\n",
       "      <td>5억1634만</td>\n",
       "      <td>946개</td>\n",
       "    </tr>\n",
       "    <tr>\n",
       "      <th>996</th>\n",
       "      <td>SUNBA선바</td>\n",
       "      <td>[BJ/인물/연예인]</td>\n",
       "      <td>75만</td>\n",
       "      <td>12억5570만</td>\n",
       "      <td>2,800개</td>\n",
       "    </tr>\n",
       "    <tr>\n",
       "      <th>997</th>\n",
       "      <td>백크 Baekk</td>\n",
       "      <td>[미분류]</td>\n",
       "      <td>74만</td>\n",
       "      <td>4억8221만</td>\n",
       "      <td>1,151개</td>\n",
       "    </tr>\n",
       "    <tr>\n",
       "      <th>998</th>\n",
       "      <td>KBS COMEDY: 크큭티비</td>\n",
       "      <td>[TV/방송]</td>\n",
       "      <td>74만</td>\n",
       "      <td>10억7071만</td>\n",
       "      <td>8,182개</td>\n",
       "    </tr>\n",
       "    <tr>\n",
       "      <th>999</th>\n",
       "      <td>인아짱 Inah Eats</td>\n",
       "      <td>[음식/요리/레시피]</td>\n",
       "      <td>74만</td>\n",
       "      <td>1억8468만</td>\n",
       "      <td>1,185개</td>\n",
       "    </tr>\n",
       "  </tbody>\n",
       "</table>\n",
       "</div>"
      ],
      "text/plain": [
       "                Title     Category Subscriber      View   Video\n",
       "995   뽀로로 타요 장난감 놀이교실     [키즈/어린이]        75만   5억1634만    946개\n",
       "996           SUNBA선바  [BJ/인물/연예인]        75만  12억5570만  2,800개\n",
       "997          백크 Baekk        [미분류]        74만   4억8221만  1,151개\n",
       "998  KBS COMEDY: 크큭티비      [TV/방송]        74만  10억7071만  8,182개\n",
       "999     인아짱 Inah Eats  [음식/요리/레시피]        74만   1억8468만  1,185개"
      ]
     },
     "execution_count": 19,
     "metadata": {},
     "output_type": "execute_result"
    }
   ],
   "source": [
    "df.tail()"
   ]
  },
  {
   "cell_type": "code",
   "execution_count": 20,
   "metadata": {},
   "outputs": [
    {
     "data": {
      "text/plain": [
       "0    8960만\n",
       "1    7550만\n",
       "2    7100만\n",
       "3    3180만\n",
       "4    2730만\n",
       "5    2650만\n",
       "6    2610만\n",
       "7    2450만\n",
       "8    2270만\n",
       "9    2050만\n",
       "Name: Subscriber, dtype: object"
      ]
     },
     "execution_count": 20,
     "metadata": {},
     "output_type": "execute_result"
    }
   ],
   "source": [
    "df['Subscriber'][0:10]"
   ]
  },
  {
   "cell_type": "code",
   "execution_count": 21,
   "metadata": {},
   "outputs": [
    {
     "data": {
      "text/html": [
       "<div>\n",
       "<style scoped>\n",
       "    .dataframe tbody tr th:only-of-type {\n",
       "        vertical-align: middle;\n",
       "    }\n",
       "\n",
       "    .dataframe tbody tr th {\n",
       "        vertical-align: top;\n",
       "    }\n",
       "\n",
       "    .dataframe thead th {\n",
       "        text-align: right;\n",
       "    }\n",
       "</style>\n",
       "<table border=\"1\" class=\"dataframe\">\n",
       "  <thead>\n",
       "    <tr style=\"text-align: right;\">\n",
       "      <th></th>\n",
       "      <th>Title</th>\n",
       "      <th>Category</th>\n",
       "      <th>Subscriber</th>\n",
       "      <th>View</th>\n",
       "      <th>Video</th>\n",
       "      <th>replaced_subscriber</th>\n",
       "    </tr>\n",
       "  </thead>\n",
       "  <tbody>\n",
       "    <tr>\n",
       "      <th>0</th>\n",
       "      <td>BLACKPINK</td>\n",
       "      <td>[음악/댄스/가수]</td>\n",
       "      <td>8960만</td>\n",
       "      <td>319억6888만</td>\n",
       "      <td>535개</td>\n",
       "      <td>89600000</td>\n",
       "    </tr>\n",
       "    <tr>\n",
       "      <th>1</th>\n",
       "      <td>BANGTANTV</td>\n",
       "      <td>[음악/댄스/가수]</td>\n",
       "      <td>7550만</td>\n",
       "      <td>207억5326만</td>\n",
       "      <td>2,249개</td>\n",
       "      <td>75500000</td>\n",
       "    </tr>\n",
       "    <tr>\n",
       "      <th>2</th>\n",
       "      <td>HYBE LABELS</td>\n",
       "      <td>[음악/댄스/가수]</td>\n",
       "      <td>7100만</td>\n",
       "      <td>284억5091만</td>\n",
       "      <td>1,306개</td>\n",
       "      <td>71000000</td>\n",
       "    </tr>\n",
       "    <tr>\n",
       "      <th>3</th>\n",
       "      <td>SMTOWN</td>\n",
       "      <td>[음악/댄스/가수]</td>\n",
       "      <td>3180만</td>\n",
       "      <td>272억6233만</td>\n",
       "      <td>4,143개</td>\n",
       "      <td>31800000</td>\n",
       "    </tr>\n",
       "    <tr>\n",
       "      <th>4</th>\n",
       "      <td>JYP Entertainment</td>\n",
       "      <td>[음악/댄스/가수]</td>\n",
       "      <td>2730만</td>\n",
       "      <td>197억7223만</td>\n",
       "      <td>1,719개</td>\n",
       "      <td>27300000</td>\n",
       "    </tr>\n",
       "  </tbody>\n",
       "</table>\n",
       "</div>"
      ],
      "text/plain": [
       "               Title    Category Subscriber       View   Video  \\\n",
       "0          BLACKPINK  [음악/댄스/가수]      8960만  319억6888만    535개   \n",
       "1          BANGTANTV  [음악/댄스/가수]      7550만  207억5326만  2,249개   \n",
       "2        HYBE LABELS  [음악/댄스/가수]      7100만  284억5091만  1,306개   \n",
       "3             SMTOWN  [음악/댄스/가수]      3180만  272억6233만  4,143개   \n",
       "4  JYP Entertainment  [음악/댄스/가수]      2730만  197억7223만  1,719개   \n",
       "\n",
       "   replaced_subscriber  \n",
       "0             89600000  \n",
       "1             75500000  \n",
       "2             71000000  \n",
       "3             31800000  \n",
       "4             27300000  "
      ]
     },
     "execution_count": 21,
     "metadata": {},
     "output_type": "execute_result"
    }
   ],
   "source": [
    "df['replaced_subscriber'] = df['Subscriber'].str.replace('만', '0000').astype('int')\n",
    "df.head()"
   ]
  },
  {
   "cell_type": "code",
   "execution_count": 22,
   "metadata": {},
   "outputs": [
    {
     "name": "stdout",
     "output_type": "stream",
     "text": [
      "<class 'pandas.core.frame.DataFrame'>\n",
      "RangeIndex: 1000 entries, 0 to 999\n",
      "Data columns (total 6 columns):\n",
      " #   Column               Non-Null Count  Dtype \n",
      "---  ------               --------------  ----- \n",
      " 0   Title                1000 non-null   object\n",
      " 1   Category             1000 non-null   object\n",
      " 2   Subscriber           1000 non-null   object\n",
      " 3   View                 1000 non-null   object\n",
      " 4   Video                1000 non-null   object\n",
      " 5   replaced_subscriber  1000 non-null   int32 \n",
      "dtypes: int32(1), object(5)\n",
      "memory usage: 43.1+ KB\n"
     ]
    }
   ],
   "source": [
    "df.info()"
   ]
  },
  {
   "cell_type": "code",
   "execution_count": 23,
   "metadata": {},
   "outputs": [
    {
     "data": {
      "text/html": [
       "<div>\n",
       "<style scoped>\n",
       "    .dataframe tbody tr th:only-of-type {\n",
       "        vertical-align: middle;\n",
       "    }\n",
       "\n",
       "    .dataframe tbody tr th {\n",
       "        vertical-align: top;\n",
       "    }\n",
       "\n",
       "    .dataframe thead tr th {\n",
       "        text-align: left;\n",
       "    }\n",
       "\n",
       "    .dataframe thead tr:last-of-type th {\n",
       "        text-align: right;\n",
       "    }\n",
       "</style>\n",
       "<table border=\"1\" class=\"dataframe\">\n",
       "  <thead>\n",
       "    <tr>\n",
       "      <th></th>\n",
       "      <th>sum</th>\n",
       "      <th>count</th>\n",
       "    </tr>\n",
       "    <tr>\n",
       "      <th></th>\n",
       "      <th>replaced_subscriber</th>\n",
       "      <th>replaced_subscriber</th>\n",
       "    </tr>\n",
       "    <tr>\n",
       "      <th>Category</th>\n",
       "      <th></th>\n",
       "      <th></th>\n",
       "    </tr>\n",
       "  </thead>\n",
       "  <tbody>\n",
       "    <tr>\n",
       "      <th>[BJ/인물/연예인]</th>\n",
       "      <td>100890000</td>\n",
       "      <td>58</td>\n",
       "    </tr>\n",
       "    <tr>\n",
       "      <th>[IT/기술/컴퓨터]</th>\n",
       "      <td>10050000</td>\n",
       "      <td>7</td>\n",
       "    </tr>\n",
       "    <tr>\n",
       "      <th>[TV/방송]</th>\n",
       "      <td>270300000</td>\n",
       "      <td>122</td>\n",
       "    </tr>\n",
       "    <tr>\n",
       "      <th>[게임]</th>\n",
       "      <td>68390000</td>\n",
       "      <td>51</td>\n",
       "    </tr>\n",
       "    <tr>\n",
       "      <th>[교육/강의]</th>\n",
       "      <td>27920000</td>\n",
       "      <td>19</td>\n",
       "    </tr>\n",
       "  </tbody>\n",
       "</table>\n",
       "</div>"
      ],
      "text/plain": [
       "                            sum               count\n",
       "            replaced_subscriber replaced_subscriber\n",
       "Category                                           \n",
       "[BJ/인물/연예인]           100890000                  58\n",
       "[IT/기술/컴퓨터]            10050000                   7\n",
       "[TV/방송]               270300000                 122\n",
       "[게임]                   68390000                  51\n",
       "[교육/강의]                27920000                  19"
      ]
     },
     "execution_count": 23,
     "metadata": {},
     "output_type": "execute_result"
    }
   ],
   "source": [
    "pivot_df = df.pivot_table(index='Category', values='replaced_subscriber', aggfunc = ['sum', 'count'])\n",
    "pivot_df.head()"
   ]
  },
  {
   "cell_type": "code",
   "execution_count": 24,
   "metadata": {},
   "outputs": [
    {
     "data": {
      "text/html": [
       "<div>\n",
       "<style scoped>\n",
       "    .dataframe tbody tr th:only-of-type {\n",
       "        vertical-align: middle;\n",
       "    }\n",
       "\n",
       "    .dataframe tbody tr th {\n",
       "        vertical-align: top;\n",
       "    }\n",
       "\n",
       "    .dataframe thead th {\n",
       "        text-align: right;\n",
       "    }\n",
       "</style>\n",
       "<table border=\"1\" class=\"dataframe\">\n",
       "  <thead>\n",
       "    <tr style=\"text-align: right;\">\n",
       "      <th></th>\n",
       "      <th>subscriber_sum</th>\n",
       "      <th>category_count</th>\n",
       "    </tr>\n",
       "    <tr>\n",
       "      <th>Category</th>\n",
       "      <th></th>\n",
       "      <th></th>\n",
       "    </tr>\n",
       "  </thead>\n",
       "  <tbody>\n",
       "    <tr>\n",
       "      <th>[BJ/인물/연예인]</th>\n",
       "      <td>100890000</td>\n",
       "      <td>58</td>\n",
       "    </tr>\n",
       "    <tr>\n",
       "      <th>[IT/기술/컴퓨터]</th>\n",
       "      <td>10050000</td>\n",
       "      <td>7</td>\n",
       "    </tr>\n",
       "    <tr>\n",
       "      <th>[TV/방송]</th>\n",
       "      <td>270300000</td>\n",
       "      <td>122</td>\n",
       "    </tr>\n",
       "    <tr>\n",
       "      <th>[게임]</th>\n",
       "      <td>68390000</td>\n",
       "      <td>51</td>\n",
       "    </tr>\n",
       "    <tr>\n",
       "      <th>[교육/강의]</th>\n",
       "      <td>27920000</td>\n",
       "      <td>19</td>\n",
       "    </tr>\n",
       "  </tbody>\n",
       "</table>\n",
       "</div>"
      ],
      "text/plain": [
       "             subscriber_sum  category_count\n",
       "Category                                   \n",
       "[BJ/인물/연예인]       100890000              58\n",
       "[IT/기술/컴퓨터]        10050000               7\n",
       "[TV/방송]           270300000             122\n",
       "[게임]               68390000              51\n",
       "[교육/강의]            27920000              19"
      ]
     },
     "execution_count": 24,
     "metadata": {},
     "output_type": "execute_result"
    }
   ],
   "source": [
    "pivot_df.columns = ['subscriber_sum', 'category_count']\n",
    "pivot_df.head()"
   ]
  },
  {
   "cell_type": "code",
   "execution_count": 25,
   "metadata": {},
   "outputs": [
    {
     "data": {
      "text/html": [
       "<div>\n",
       "<style scoped>\n",
       "    .dataframe tbody tr th:only-of-type {\n",
       "        vertical-align: middle;\n",
       "    }\n",
       "\n",
       "    .dataframe tbody tr th {\n",
       "        vertical-align: top;\n",
       "    }\n",
       "\n",
       "    .dataframe thead th {\n",
       "        text-align: right;\n",
       "    }\n",
       "</style>\n",
       "<table border=\"1\" class=\"dataframe\">\n",
       "  <thead>\n",
       "    <tr style=\"text-align: right;\">\n",
       "      <th></th>\n",
       "      <th>Category</th>\n",
       "      <th>subscriber_sum</th>\n",
       "      <th>category_count</th>\n",
       "    </tr>\n",
       "  </thead>\n",
       "  <tbody>\n",
       "    <tr>\n",
       "      <th>0</th>\n",
       "      <td>[BJ/인물/연예인]</td>\n",
       "      <td>100890000</td>\n",
       "      <td>58</td>\n",
       "    </tr>\n",
       "    <tr>\n",
       "      <th>1</th>\n",
       "      <td>[IT/기술/컴퓨터]</td>\n",
       "      <td>10050000</td>\n",
       "      <td>7</td>\n",
       "    </tr>\n",
       "    <tr>\n",
       "      <th>2</th>\n",
       "      <td>[TV/방송]</td>\n",
       "      <td>270300000</td>\n",
       "      <td>122</td>\n",
       "    </tr>\n",
       "    <tr>\n",
       "      <th>3</th>\n",
       "      <td>[게임]</td>\n",
       "      <td>68390000</td>\n",
       "      <td>51</td>\n",
       "    </tr>\n",
       "    <tr>\n",
       "      <th>4</th>\n",
       "      <td>[교육/강의]</td>\n",
       "      <td>27920000</td>\n",
       "      <td>19</td>\n",
       "    </tr>\n",
       "  </tbody>\n",
       "</table>\n",
       "</div>"
      ],
      "text/plain": [
       "      Category  subscriber_sum  category_count\n",
       "0  [BJ/인물/연예인]       100890000              58\n",
       "1  [IT/기술/컴퓨터]        10050000               7\n",
       "2      [TV/방송]       270300000             122\n",
       "3         [게임]        68390000              51\n",
       "4      [교육/강의]        27920000              19"
      ]
     },
     "execution_count": 25,
     "metadata": {},
     "output_type": "execute_result"
    }
   ],
   "source": [
    "pivot_df.reset_index(inplace=True)\n",
    "pivot_df.head()"
   ]
  },
  {
   "cell_type": "code",
   "execution_count": 26,
   "metadata": {},
   "outputs": [
    {
     "data": {
      "text/html": [
       "<div>\n",
       "<style scoped>\n",
       "    .dataframe tbody tr th:only-of-type {\n",
       "        vertical-align: middle;\n",
       "    }\n",
       "\n",
       "    .dataframe tbody tr th {\n",
       "        vertical-align: top;\n",
       "    }\n",
       "\n",
       "    .dataframe thead th {\n",
       "        text-align: right;\n",
       "    }\n",
       "</style>\n",
       "<table border=\"1\" class=\"dataframe\">\n",
       "  <thead>\n",
       "    <tr style=\"text-align: right;\">\n",
       "      <th></th>\n",
       "      <th>Category</th>\n",
       "      <th>subscriber_sum</th>\n",
       "      <th>category_count</th>\n",
       "    </tr>\n",
       "  </thead>\n",
       "  <tbody>\n",
       "    <tr>\n",
       "      <th>12</th>\n",
       "      <td>[음악/댄스/가수]</td>\n",
       "      <td>828850000</td>\n",
       "      <td>153</td>\n",
       "    </tr>\n",
       "    <tr>\n",
       "      <th>16</th>\n",
       "      <td>[키즈/어린이]</td>\n",
       "      <td>405120000</td>\n",
       "      <td>130</td>\n",
       "    </tr>\n",
       "    <tr>\n",
       "      <th>7</th>\n",
       "      <td>[미분류]</td>\n",
       "      <td>315980000</td>\n",
       "      <td>195</td>\n",
       "    </tr>\n",
       "    <tr>\n",
       "      <th>2</th>\n",
       "      <td>[TV/방송]</td>\n",
       "      <td>270300000</td>\n",
       "      <td>122</td>\n",
       "    </tr>\n",
       "    <tr>\n",
       "      <th>11</th>\n",
       "      <td>[음식/요리/레시피]</td>\n",
       "      <td>217610000</td>\n",
       "      <td>71</td>\n",
       "    </tr>\n",
       "  </tbody>\n",
       "</table>\n",
       "</div>"
      ],
      "text/plain": [
       "       Category  subscriber_sum  category_count\n",
       "12   [음악/댄스/가수]       828850000             153\n",
       "16     [키즈/어린이]       405120000             130\n",
       "7         [미분류]       315980000             195\n",
       "2       [TV/방송]       270300000             122\n",
       "11  [음식/요리/레시피]       217610000              71"
      ]
     },
     "execution_count": 26,
     "metadata": {},
     "output_type": "execute_result"
    }
   ],
   "source": [
    "pivot_df = pivot_df.sort_values(by='subscriber_sum', ascending=False)\n",
    "pivot_df.head()"
   ]
  },
  {
   "cell_type": "code",
   "execution_count": 29,
   "metadata": {},
   "outputs": [
    {
     "data": {
      "text/plain": [
       "12     [음악/댄스/가수]\n",
       "16       [키즈/어린이]\n",
       "7           [미분류]\n",
       "2         [TV/방송]\n",
       "11    [음식/요리/레시피]\n",
       "6      [뉴스/정치/사회]\n",
       "0     [BJ/인물/연예인]\n",
       "3            [게임]\n",
       "15       [취미/라이프]\n",
       "10     [영화/만화/애니]\n",
       "17        [패션/미용]\n",
       "9       [애완/반려동물]\n",
       "4         [교육/강의]\n",
       "19       [회사/오피셜]\n",
       "8        [스포츠/운동]\n",
       "18           [해외]\n",
       "Name: Category, dtype: object"
      ]
     },
     "execution_count": 29,
     "metadata": {},
     "output_type": "execute_result"
    }
   ],
   "source": [
    "labels = pivot_df['Category']\n",
    "labels[:-4]"
   ]
  },
  {
   "cell_type": "code",
   "execution_count": 35,
   "metadata": {},
   "outputs": [
    {
     "data": {
      "image/png": "[encoded data removed]",
      "text/plain": [
       "<Figure size 1000x3000 with 1 Axes>"
      ]
     },
     "metadata": {},
     "output_type": "display_data"
    }
   ],
   "source": [
    "plt.figure(figsize = (10, 30))\n",
    "labels = pivot_df['Category'].copy()\n",
    "labels.iloc[-4:] = pd.Series([''] * 4)\n",
    "\n",
    "plt.pie(pivot_df['subscriber_sum'],\n",
    "        labels=labels,\n",
    "        autopct='%1.1f%%',\n",
    "        startangle=90,\n",
    "        rotatelabels=True\n",
    "        )\n",
    "total = sum(pivot_df['subscriber_sum'])\n",
    "legend_lables = [f'{label}: {round(size/total, 2)}%' for label, size in zip(pivot_df['Category'], pivot_df['subscriber_sum'])]\n",
    "plt.legend(title='Legend', labels=legend_lables)\n",
    "\n",
    "plt.show()"
   ]
  },
  {
   "cell_type": "code",
   "execution_count": null,
   "metadata": {},
   "outputs": [],
   "source": []
  }
 ],
 "metadata": {
  "kernelspec": {
   "display_name": "Python 3 (ipykernel)",
   "language": "python",
   "name": "python3"
  },
  "language_info": {
   "codemirror_mode": {
    "name": "ipython",
    "version": 3
   },
   "file_extension": ".py",
   "mimetype": "text/x-python",
   "name": "python",
   "nbconvert_exporter": "python",
   "pygments_lexer": "ipython3",
   "version": "3.11.3"
  }
 },
 "nbformat": 4,
 "nbformat_minor": 2
}
