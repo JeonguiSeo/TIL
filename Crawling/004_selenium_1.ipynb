{
 "cells": [
  {
   "cell_type": "markdown",
   "metadata": {},
   "source": [
    "## Selenium 1\n",
    "\n",
    "1. Install Selenim and Chrome Driver\n",
    "\n",
    "2. Selenium의 기본 사용법"
   ]
  },
  {
   "cell_type": "markdown",
   "metadata": {},
   "source": [
    "## 1. Install Selenim and Chrome Driver"
   ]
  },
  {
   "cell_type": "markdown",
   "metadata": {},
   "source": [
    "\n",
    "- 크롬 드라이버 다운로드\n",
    "    - 크롬 브라우져를 사용하기 위해 크롬 드라이버를 다운로드 해야 합니다.\n",
    "    - https://chromedriver.chromium.org/downloads\n",
    "    - https://sites.google.com/a/chromium.org/chromedriver/downloads\n",
    "    - https://chromedriver.storage.googleapis.com/index.html?path=2.42/\n",
    "\n",
    "\n",
    "- (참고) 환경변수 추가\n",
    "    - 내컴퓨터 오른쪽 클릭 -> 속성 -> 고급시스템설정 -> 환경변수 -> 시스템변수의 Path 더블클릭 -> chromedriver path를\n",
    "추가\n",
    "    - 예: C:₩Users₩(사용자계정이름)₩chromdriver 으로 추가\n",
    "    - 환경변수 추가 후에도 드라이버가 실행되지 않는 경우에는 아래의 두가지 방법의 사용이 가능\n",
    "        - 크롬 드라이버 파일을 동일한 디렉토리에 위치해서 실행\n",
    "        - 크롬 드라이버를 호출하는 함수에 아규먼트로 크롬 드라이버의 파일경로를 추가`"
   ]
  },
  {
   "cell_type": "markdown",
   "metadata": {},
   "source": [
    "패키지 호출"
   ]
  },
  {
   "cell_type": "code",
   "execution_count": 1,
   "metadata": {},
   "outputs": [
    {
     "name": "stdout",
     "output_type": "stream",
     "text": [
      "Requirement already satisfied: selenium in c:\\programdata\\anaconda3\\lib\\site-packages (4.10.0)\n",
      "Requirement already satisfied: trio-websocket~=0.9 in c:\\programdata\\anaconda3\\lib\\site-packages (from selenium) (0.10.3)\n",
      "Requirement already satisfied: urllib3[socks]<3,>=1.26 in c:\\programdata\\anaconda3\\lib\\site-packages (from selenium) (1.26.11)\n",
      "Requirement already satisfied: trio~=0.17 in c:\\programdata\\anaconda3\\lib\\site-packages (from selenium) (0.22.0)\n",
      "Requirement already satisfied: certifi>=2021.10.8 in c:\\programdata\\anaconda3\\lib\\site-packages (from selenium) (2022.9.14)\n",
      "Requirement already satisfied: attrs>=19.2.0 in c:\\programdata\\anaconda3\\lib\\site-packages (from trio~=0.17->selenium) (21.4.0)\n",
      "Requirement already satisfied: sniffio in c:\\programdata\\anaconda3\\lib\\site-packages (from trio~=0.17->selenium) (1.2.0)\n",
      "Requirement already satisfied: exceptiongroup>=1.0.0rc9 in c:\\programdata\\anaconda3\\lib\\site-packages (from trio~=0.17->selenium) (1.1.1)\n",
      "Requirement already satisfied: sortedcontainers in c:\\programdata\\anaconda3\\lib\\site-packages (from trio~=0.17->selenium) (2.4.0)\n",
      "Requirement already satisfied: cffi>=1.14 in c:\\programdata\\anaconda3\\lib\\site-packages (from trio~=0.17->selenium) (1.15.1)\n",
      "Requirement already satisfied: idna in c:\\programdata\\anaconda3\\lib\\site-packages (from trio~=0.17->selenium) (3.3)\n",
      "Requirement already satisfied: outcome in c:\\programdata\\anaconda3\\lib\\site-packages (from trio~=0.17->selenium) (1.2.0)\n",
      "Requirement already satisfied: async-generator>=1.9 in c:\\programdata\\anaconda3\\lib\\site-packages (from trio~=0.17->selenium) (1.10)\n",
      "Requirement already satisfied: wsproto>=0.14 in c:\\programdata\\anaconda3\\lib\\site-packages (from trio-websocket~=0.9->selenium) (1.2.0)\n",
      "Requirement already satisfied: PySocks!=1.5.7,<2.0,>=1.5.6 in c:\\programdata\\anaconda3\\lib\\site-packages (from urllib3[socks]<3,>=1.26->selenium) (1.7.1)\n",
      "Requirement already satisfied: pycparser in c:\\programdata\\anaconda3\\lib\\site-packages (from cffi>=1.14->trio~=0.17->selenium) (2.21)\n",
      "Requirement already satisfied: h11<1,>=0.9.0 in c:\\programdata\\anaconda3\\lib\\site-packages (from wsproto>=0.14->trio-websocket~=0.9->selenium) (0.14.0)\n"
     ]
    }
   ],
   "source": [
    "!pip install selenium"
   ]
  },
  {
   "cell_type": "code",
   "execution_count": 3,
   "metadata": {},
   "outputs": [
    {
     "name": "stdout",
     "output_type": "stream",
     "text": [
      "Collecting webdriver_manager\n",
      "  Downloading webdriver_manager-3.8.6-py2.py3-none-any.whl (27 kB)\n",
      "Requirement already satisfied: packaging in c:\\programdata\\anaconda3\\lib\\site-packages (from webdriver_manager) (21.3)\n",
      "Requirement already satisfied: tqdm in c:\\programdata\\anaconda3\\lib\\site-packages (from webdriver_manager) (4.64.1)\n",
      "Requirement already satisfied: requests in c:\\programdata\\anaconda3\\lib\\site-packages (from webdriver_manager) (2.28.1)\n",
      "Collecting python-dotenv\n",
      "  Using cached python_dotenv-1.0.0-py3-none-any.whl (19 kB)\n",
      "Requirement already satisfied: pyparsing!=3.0.5,>=2.0.2 in c:\\programdata\\anaconda3\\lib\\site-packages (from packaging->webdriver_manager) (3.0.9)\n",
      "Requirement already satisfied: urllib3<1.27,>=1.21.1 in c:\\programdata\\anaconda3\\lib\\site-packages (from requests->webdriver_manager) (1.26.11)\n",
      "Requirement already satisfied: certifi>=2017.4.17 in c:\\programdata\\anaconda3\\lib\\site-packages (from requests->webdriver_manager) (2022.9.14)\n",
      "Requirement already satisfied: charset-normalizer<3,>=2 in c:\\programdata\\anaconda3\\lib\\site-packages (from requests->webdriver_manager) (2.0.4)\n",
      "Requirement already satisfied: idna<4,>=2.5 in c:\\programdata\\anaconda3\\lib\\site-packages (from requests->webdriver_manager) (3.3)\n",
      "Requirement already satisfied: colorama in c:\\programdata\\anaconda3\\lib\\site-packages (from tqdm->webdriver_manager) (0.4.5)\n",
      "Installing collected packages: python-dotenv, webdriver_manager\n",
      "Successfully installed python-dotenv-1.0.0 webdriver_manager-3.8.6\n"
     ]
    }
   ],
   "source": [
    "!pip install webdriver_manager"
   ]
  },
  {
   "cell_type": "code",
   "execution_count": 4,
   "metadata": {},
   "outputs": [],
   "source": [
    "from selenium import webdriver"
   ]
  },
  {
   "cell_type": "code",
   "execution_count": 5,
   "metadata": {},
   "outputs": [],
   "source": [
    "from selenium.webdriver.chrome.service import Service as ChromeService\n",
    "from webdriver_manager.chrome import ChromeDriverManager"
   ]
  },
  {
   "cell_type": "markdown",
   "metadata": {},
   "source": [
    "- 브라우져 열기 - "
   ]
  },
  {
   "cell_type": "code",
   "execution_count": 6,
   "metadata": {},
   "outputs": [],
   "source": [
    "driver = webdriver.Chrome(service=ChromeService(ChromeDriverManager().install()))"
   ]
  },
  {
   "cell_type": "markdown",
   "metadata": {},
   "source": [
    "## 2. Selenium의 기본 사용법\n",
    "1. 셀레니움이란?\n",
    "1. 웹 드라이버 객체 만들기 및 페이지 이동\n",
    "1. 윈도우 사이즈 조절\n",
    "1. 브라우져 스크롤 이동\n",
    "1. Alert 다루기\n",
    "1. 입력창에 문자열 입력하기\n",
    "1. 버튼 클릭하기\n",
    "1. 텍스트 데이터 가져오기\n",
    "1. 속성 데이터 가져오기\n",
    "1. 윈도우 및 브라우져 종료하기"
   ]
  },
  {
   "cell_type": "markdown",
   "metadata": {},
   "source": [
    "### 2.1 셀레니움이란?\n",
    "- 셀레니움은 http://www.seleniumhq.org/ 웹페이지에서 자세한 내용과 사용법을 확인하실수 있습니다. \n",
    "- 셀레니움은 브라우져를 자동화하는 툴으로 테스팅을 목적으로 웹 어플리케이션을 자동화하는 목적으로 만들어졌지만 테스팅에 국한되서 사용 되지는 않습니다.\n",
    "- 웹 기반의 작업들을 자동화하여 업무 효율성을 높일수 있으며 다양한 언어와 다양한 브라우져를 지원합니다.\n",
    "- http://www.seleniumhq.org/about/platforms.jsp 웹 페이지에서 지원하는 브라우져와 지원하는 OS와 지원하는 언어를 확인하실수 있습니다. \n",
    "- 셀레니움은 Firefox, Internet Explorer, Safari, Opera Chrome 브라우져를 지원합니다. \n",
    "- 지원하는 OS로는 Microsoft Windows, Apple OS X, Linux를 지원하며, 지원하는 언어는 C#, Haskell, Java, Javascript, Object-C, Perl, PHP, Python, R, Ruby를 지원합니다."
   ]
  },
  {
   "cell_type": "markdown",
   "metadata": {},
   "source": [
    "### 2.2 웹 드라이버 객체 만들기 및 페이지 이동\n",
    "- driver의 get 함수를 이용하여 크롬 브라우져에서 페이지를 이동할수 있습니다.\n",
    "- 아래의 코드는 naver웹 페이지로 이동합니다.\n",
    "- url은 http를 꼭 포함해야 합니다"
   ]
  },
  {
   "cell_type": "code",
   "execution_count": 7,
   "metadata": {},
   "outputs": [],
   "source": [
    "driver.get(\"https://www.naver.com/\")"
   ]
  },
  {
   "cell_type": "markdown",
   "metadata": {},
   "source": [
    "### 2.3 윈도우 사이즈 조절\n",
    "- driver의 set_window_size 함수를 이용하여 윈도우 사이즈를 조절할수 있습니다.\n",
    "- 함수내의 첫번째 파라미터는 가로 사이즈를 나타내며 두번째 파라미터는 세로 사이즈를 나타냅니다.\n",
    "- 사이즈의 단위 는 픽셀입니다."
   ]
  },
  {
   "cell_type": "code",
   "execution_count": 8,
   "metadata": {},
   "outputs": [],
   "source": [
    "# (가로, 세로) - 1024 * 768 픽셀의 사이즈로 윈도우 브라우져를 열어줍니다.\n",
    "driver.set_window_size(1024, 768)"
   ]
  },
  {
   "cell_type": "markdown",
   "metadata": {},
   "source": [
    "### 2.4 브라우져의 스크롤 위치 이동\n",
    "- 브라우져의 스크롤 위치 이동은 selenium의 webdriver에 따로 기능이 없기 때문에 javascript 코드를 실행 하여 브라우져 스크롤 위치를 이동시킬수 있습니다. \n",
    "- javascirpt의 window.scrollTo 함수의 첫번째 파라미터는 가로축 위치를 나타내며 아 래 코드와 같이 200으로 설정을 하면 왼쪽에서 200픽셀만큼의 브라우져 스크롤 위치를 이동함을 의미합니다. \n",
    "- 두번째 파라미 터는 세로축의 위치를 나타내며 아래의 코드와 같이 300으로 지정을 하면 위에서 아래로 300픽셀 만큼 스크롤이 내려감을 의미합니다."
   ]
  },
  {
   "cell_type": "code",
   "execution_count": 9,
   "metadata": {},
   "outputs": [],
   "source": [
    "driver.execute_script(\"window.scrollTo(200, 300);\")"
   ]
  },
  {
   "cell_type": "markdown",
   "metadata": {},
   "source": [
    "### 2.5 Alert 다루기\n",
    "- 크롤링이나 자동화를 하는 중간에 alert 메시지가 나오는 경우가 있습니다.\n",
    "- 이럴때 크롤링이나 자동화를 계속 하게 하기 위해 alert 메시지를 다룰줄 알아야 합니"
   ]
  },
  {
   "cell_type": "code",
   "execution_count": 10,
   "metadata": {},
   "outputs": [
    {
     "name": "stdout",
     "output_type": "stream",
     "text": [
      "alert 없음\n"
     ]
    }
   ],
   "source": [
    "# alert 체크\n",
    "try:\n",
    "    alert = driver.switch_to.alert\n",
    "    print(alert.text)\n",
    "except:\n",
    "    print('alert 없음')"
   ]
  },
  {
   "cell_type": "code",
   "execution_count": 11,
   "metadata": {},
   "outputs": [],
   "source": [
    "driver.execute_script(\"alert('selenium test');\")"
   ]
  },
  {
   "cell_type": "code",
   "execution_count": 13,
   "metadata": {},
   "outputs": [
    {
     "name": "stdout",
     "output_type": "stream",
     "text": [
      "selenium test\n"
     ]
    }
   ],
   "source": [
    "# alert 체크\n",
    "try:\n",
    "    alert = driver.switch_to.alert\n",
    "    print(alert.text)\n",
    "except:\n",
    "    print('alert 없음')"
   ]
  },
  {
   "cell_type": "code",
   "execution_count": 14,
   "metadata": {},
   "outputs": [],
   "source": [
    "# alert 확인 버튼 누르기\n",
    "alert.accept()"
   ]
  },
  {
   "cell_type": "markdown",
   "metadata": {},
   "source": [
    "### 2.7 버튼 클릭하기\n",
    "- selenium driver의 css selector와 click 함수를 이용하여 웹페이지의 input 태그에 문자열을 입력할수 있습니다."
   ]
  },
  {
   "cell_type": "code",
   "execution_count": 15,
   "metadata": {},
   "outputs": [],
   "source": [
    "from selenium.webdriver.common.by import By"
   ]
  },
  {
   "cell_type": "code",
   "execution_count": 16,
   "metadata": {},
   "outputs": [],
   "source": [
    "driver.find_element(By.CSS_SELECTOR,\".MyView-module__link_login___HpHMW\").click()"
   ]
  },
  {
   "cell_type": "markdown",
   "metadata": {},
   "source": [
    "### 2.8 텍스트 데이터 가져오기\n",
    "- text 변수를 사용\n",
    "- find_element(By.CSS_SELECTOR,'classname'): 여러개의 엘리먼트를 선택\n",
    "- find_elements(By.CSS_SELECTOR,'classname'): 여러개의 엘리먼트를 선택"
   ]
  },
  {
   "cell_type": "code",
   "execution_count": 17,
   "metadata": {},
   "outputs": [],
   "source": [
    "from selenium.webdriver.common.by import By"
   ]
  },
  {
   "cell_type": "code",
   "execution_count": 18,
   "metadata": {},
   "outputs": [],
   "source": [
    "# 테드 사이트로 접속\n",
    "driver.get('https://www.ted.com/talks')"
   ]
  },
  {
   "cell_type": "code",
   "execution_count": 19,
   "metadata": {},
   "outputs": [
    {
     "data": {
      "text/plain": [
       "'Broaden \\nyour \\nhorizons \\nA liberating vision of identity that transcends labels\\nWatch now'"
      ]
     },
     "execution_count": 19,
     "metadata": {},
     "output_type": "execute_result"
    }
   ],
   "source": [
    "# 메인 배너 타이틀 가져오기\n",
    "driver.find_element(By.CSS_SELECTOR, '#recommends-banner').text"
   ]
  },
  {
   "cell_type": "code",
   "execution_count": 20,
   "metadata": {},
   "outputs": [
    {
     "data": {
      "text/plain": [
       "36"
      ]
     },
     "execution_count": 20,
     "metadata": {},
     "output_type": "execute_result"
    }
   ],
   "source": [
    "# 컨텐츠 리스트 제목 가져오기\n",
    "contents = driver.find_elements(By.CSS_SELECTOR,'#browse-results > div > .col')\n",
    "len(contents)"
   ]
  },
  {
   "cell_type": "code",
   "execution_count": 21,
   "metadata": {},
   "outputs": [
    {
     "data": {
      "text/plain": [
       "'The battle that formed the universe'"
      ]
     },
     "execution_count": 21,
     "metadata": {},
     "output_type": "execute_result"
    }
   ],
   "source": [
    "# 셀렉터 확인\n",
    "contents[0].find_element(By.CSS_SELECTOR,'.media > .media__message .ga-link').text"
   ]
  },
  {
   "cell_type": "code",
   "execution_count": 22,
   "metadata": {},
   "outputs": [],
   "source": [
    "# 전체 데이터 가져오기\n",
    "titles = []\n",
    "for content in contents:\n",
    "    title = content.find_element(By.CSS_SELECTOR,'.media > .media__message .ga-link').text\n",
    "    titles.append(title)"
   ]
  },
  {
   "cell_type": "code",
   "execution_count": 23,
   "metadata": {},
   "outputs": [
    {
     "data": {
      "text/plain": [
       "['Why is William Faulkner so difficult to read?',\n",
       " 'Your right to mental privacy in the age of brain-sensing tech',\n",
       " 'The dinosaur detectives of real-life Jurassic parks',\n",
       " '\"Butterfly Effect\" and \"Bel Arabi\"',\n",
       " 'Naeli Ahla Zahra']"
      ]
     },
     "execution_count": 23,
     "metadata": {},
     "output_type": "execute_result"
    }
   ],
   "source": [
    "titles[-5:]"
   ]
  },
  {
   "cell_type": "code",
   "execution_count": 24,
   "metadata": {},
   "outputs": [
    {
     "data": {
      "text/plain": [
       "['English', 'Español', '日本語', 'Português brasileiro', '中文 (繁體)', '한국어']"
      ]
     },
     "execution_count": 24,
     "metadata": {},
     "output_type": "execute_result"
    }
   ],
   "source": [
    "# 사용가능한 언어 옵션 리스트 가져오기 - text는 하위 엘리먼트의 문자열까지 가져옵니다.\n",
    "languages = driver.find_element(By.CSS_SELECTOR,'#languages').text\n",
    "languages = languages.split(\"\\n\")[1:-1]\n",
    "languages"
   ]
  },
  {
   "cell_type": "code",
   "execution_count": 25,
   "metadata": {},
   "outputs": [],
   "source": [
    "# 한국어 선택 후 결과 컨텐츠의 제목 가져오기\n",
    "\n",
    "# 셀렉트 박스를 선택\n",
    "driver.find_element(By.CSS_SELECTOR,'#languages [lang=\"ko\"]').click()"
   ]
  },
  {
   "cell_type": "code",
   "execution_count": 26,
   "metadata": {},
   "outputs": [],
   "source": [
    "import time"
   ]
  },
  {
   "cell_type": "code",
   "execution_count": 27,
   "metadata": {},
   "outputs": [
    {
     "data": {
      "text/plain": [
       "['스트레칭은 근육에 어떤 영향을 미칠까요? - 말라치 맥휴(Malachy McHugh)',\n",
       " '금화를 무한히 얻을 수 있는 기발한 방법 - 덴 핀켈(Dan Finkel)',\n",
       " '만약 여러분이 개미이면서 곰팡이 부자라면',\n",
       " '신경 과학자가 알려주는 불안을 누그러뜨리는 방법',\n",
       " '브리테 크리스티안센과 페트라 시페스테인이 들려주는 이슬람 황금기의 어느 날 이야기']"
      ]
     },
     "execution_count": 27,
     "metadata": {},
     "output_type": "execute_result"
    }
   ],
   "source": [
    "# 컨텐츠 가져오기\n",
    "time.sleep(3)\n",
    "contents = driver.find_elements(By.CSS_SELECTOR,'#browse-results > div > .col')\n",
    "titles = []\n",
    "for content in contents:\n",
    "    title = content.find_element(By.CSS_SELECTOR,'.media > .media__message .ga-link').text\n",
    "    titles.append(title)\n",
    "titles[-5:]"
   ]
  },
  {
   "cell_type": "markdown",
   "metadata": {},
   "source": [
    "### 2.9 속성 데이터 가져오기\n",
    "- get_attribute 함수를 이용"
   ]
  },
  {
   "cell_type": "code",
   "execution_count": 28,
   "metadata": {},
   "outputs": [
    {
     "data": {
      "text/plain": [
       "['https://www.ted.com/talks/malachy_mchugh_how_stretching_actually_changes_your_muscles?language=ko',\n",
       " 'https://www.ted.com/talks/dan_finkel_this_one_weird_trick_will_get_you_infinite_gold?language=ko',\n",
       " 'https://www.ted.com/talks/charles_wallace_when_you_re_an_ant_but_also_a_fungus_tycoon?language=ko',\n",
       " 'https://www.ted.com/talks/wendy_suzuki_how_to_calm_your_anxiety_from_a_neuroscientist?language=ko',\n",
       " 'https://www.ted.com/talks/birte_kristiansen_and_petra_sijpesteijn_a_day_in_the_islamic_golden_age?language=ko']"
      ]
     },
     "execution_count": 28,
     "metadata": {},
     "output_type": "execute_result"
    }
   ],
   "source": [
    "# 테드 에서 컨텐츠 링크 리스트 가져오기\n",
    "time.sleep(3)\n",
    "contents = driver.find_elements(By.CSS_SELECTOR,'#browse-results > div > .col')\n",
    "links = []\n",
    "for content in contents:\n",
    "    link = content.find_element(By.CSS_SELECTOR,'.media > .media__message .ga-link').get_attribute('href')\n",
    "    links.append(link)\n",
    "links[-5:]"
   ]
  },
  {
   "cell_type": "markdown",
   "metadata": {},
   "source": [
    "### 2.10 윈도우 및 브라우져 종료하기\n",
    "- selenium dirver의 quit 함수를 이용하여 윈도우 창을 닫을수 있습니다"
   ]
  },
  {
   "cell_type": "code",
   "execution_count": 29,
   "metadata": {},
   "outputs": [],
   "source": [
    "# 브라우져 닫기\n",
    "driver.quit()"
   ]
  },
  {
   "cell_type": "code",
   "execution_count": null,
   "metadata": {},
   "outputs": [],
   "source": []
  }
 ],
 "metadata": {
  "kernelspec": {
   "display_name": "Python 3 (ipykernel)",
   "language": "python",
   "name": "python3"
  },
  "language_info": {
   "codemirror_mode": {
    "name": "ipython",
    "version": 3
   },
   "file_extension": ".py",
   "mimetype": "text/x-python",
   "name": "python",
   "nbconvert_exporter": "python",
   "pygments_lexer": "ipython3",
   "version": "3.9.13"
  }
 },
 "nbformat": 4,
 "nbformat_minor": 4
}
