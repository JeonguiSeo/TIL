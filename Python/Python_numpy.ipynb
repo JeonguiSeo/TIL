{
 "cells": [
  {
   "attachments": {},
   "cell_type": "markdown",
   "metadata": {},
   "source": [
    "# NumPy\n",
    "\n",
    "NumPy :  vectorized operation 지원\n",
    "1. python에서 지원하지 않는 element간 연산 지원\n",
    "2. 다차원배열간 산술연산, 다차원배열 및 scalar간 산술연산 지원\n",
    "3. 비교연산 가능 : True/False boolean indexing\n",
    "    - 색인 대상과 동일 길이 필요\n",
    "    - 연산자는 and/or/not 대신 &(and), |(or), ~(not) 사용"
   ]
  },
  {
   "attachments": {},
   "cell_type": "markdown",
   "metadata": {},
   "source": []
  },
  {
   "cell_type": "code",
   "execution_count": 1,
   "metadata": {},
   "outputs": [],
   "source": [
    "import numpy as np"
   ]
  },
  {
   "attachments": {},
   "cell_type": "markdown",
   "metadata": {},
   "source": [
    "### python basic 연산"
   ]
  },
  {
   "cell_type": "code",
   "execution_count": 3,
   "metadata": {},
   "outputs": [
    {
     "name": "stdout",
     "output_type": "stream",
     "text": [
      "[10, 20, 30, 10, 20, 30]\n",
      "[10, 20, 30, 10, 20, 30, 10, 20, 30]\n"
     ]
    }
   ],
   "source": [
    "# list + list\n",
    "print\n",
    "print([10,20,30]+[10,20,30])\n",
    "\n",
    "# list + scalar\n",
    "print([10, 20, 30] * 3)"
   ]
  },
  {
   "attachments": {},
   "cell_type": "markdown",
   "metadata": {},
   "source": [
    "## NumPy 연산"
   ]
  },
  {
   "attachments": {},
   "cell_type": "markdown",
   "metadata": {},
   "source": [
    "### vector + vector (shape 대응 필수)"
   ]
  },
  {
   "cell_type": "code",
   "execution_count": 4,
   "metadata": {},
   "outputs": [
    {
     "name": "stdout",
     "output_type": "stream",
     "text": [
      "[15 24 33]\n",
      "[ 5 16 27]\n",
      "[50 80 90]\n",
      "[ 2.  5. 10.]\n"
     ]
    }
   ],
   "source": [
    "arr1D_1 = np.array([10, 20, 30])\n",
    "arr1D_2 = np.array([5, 4, 3])\n",
    "\n",
    "print(arr1D_1 + arr1D_2)\n",
    "print(arr1D_1 - arr1D_2)\n",
    "print(arr1D_1 * arr1D_2)\n",
    "print(arr1D_1 / arr1D_2)"
   ]
  },
  {
   "attachments": {},
   "cell_type": "markdown",
   "metadata": {},
   "source": [
    "### vector + scalar (broadcasting 연산)\n",
    "broadcasting : 서로 다른 차원을 가진 두 개의 값 산술 시, 연산이 가능하도록 차원을 자동 일치화"
   ]
  },
  {
   "cell_type": "code",
   "execution_count": 5,
   "metadata": {},
   "outputs": [
    {
     "name": "stdout",
     "output_type": "stream",
     "text": [
      "4. numpy의 vector + scalar 연산 처리\n",
      "[12 22 32]\n",
      "[ 8 18 28]\n",
      "[20 40 60]\n",
      "[ 5. 10. 15.]\n"
     ]
    }
   ],
   "source": [
    "arr1D_1 = np.array([10,20,30])\n",
    "print(\"4. numpy의 vector + scalar 연산 처리\")\n",
    "print(arr1D_1 + 2)  # [12 22 32]\n",
    "print(arr1D_1 - 2)  # [ 8 18 28]\n",
    "print(arr1D_1 * 2)  # [20 40 60]\n",
    "print(arr1D_1 / 2)  # [ 5. 10. 15.]"
   ]
  },
  {
   "attachments": {},
   "cell_type": "markdown",
   "metadata": {},
   "source": [
    "### 비교 연산의 vectorizing\n",
    "boolean 색인 적용 가능"
   ]
  },
  {
   "cell_type": "code",
   "execution_count": 6,
   "metadata": {},
   "outputs": [
    {
     "name": "stdout",
     "output_type": "stream",
     "text": [
      "[False False  True]\n",
      "[False  True  True]\n",
      "[False False  True]\n"
     ]
    }
   ],
   "source": [
    "print(arr1D_1 % 3 == 0)\n",
    "print(arr1D_1 > 15)\n",
    "print((arr1D_1 > 15) & (arr1D_1 % 6 == 0))"
   ]
  },
  {
   "attachments": {},
   "cell_type": "markdown",
   "metadata": {},
   "source": [
    "### Vector 생성"
   ]
  },
  {
   "attachments": {},
   "cell_type": "markdown",
   "metadata": {},
   "source": [
    "#### np.array(list)\n",
    "- list로 ndarray 생성 시, dtype은 기존 list의 값으로 자동 지정\n",
    "    - int의 기본 dtype : int32 (4bytes)\n",
    "    - float의 기본 dtype : float64 (8bytes)\n",
    "- np.array 시, ndarray class로 변환\n",
    "    - list type의 경우 print 시, element간 ',' 확인 가능\n",
    "    - 반면 ndarray는 print 시, element간 ',' 확인 불가"
   ]
  },
  {
   "cell_type": "code",
   "execution_count": 7,
   "metadata": {},
   "outputs": [
    {
     "name": "stdout",
     "output_type": "stream",
     "text": [
      "[10, 20, 30] <class 'list'>\n",
      "[10 20 30] <class 'numpy.ndarray'> int32\n"
     ]
    }
   ],
   "source": [
    "# 1 dimensional array\n",
    "list_value = [10, 20, 30]\n",
    "vector1 = np.array(list_value)\n",
    "print(list_value, type(list_value))     # [10, 20, 30] <class 'list'>\n",
    "print(vector1, type(vector1), vector1.dtype)    # [10 20 30] <class 'numpy.ndarray'> int32"
   ]
  },
  {
   "attachments": {},
   "cell_type": "markdown",
   "metadata": {},
   "source": [
    "#### Upcasting : Int와 flaot dtype을 함께 변환하는 경우, 보다 큰 범주의 dtype인 float으로 변환"
   ]
  },
  {
   "cell_type": "code",
   "execution_count": 10,
   "metadata": {},
   "outputs": [
    {
     "name": "stdout",
     "output_type": "stream",
     "text": [
      "[10. 20. 30.] <class 'numpy.ndarray'> float64\n"
     ]
    }
   ],
   "source": [
    "list_value = [10., 20, 30]      # float, int, int\n",
    "vector1 = np.array(list_value)\n",
    "print(vector1, type(vector1), vector1.dtype)    # int -> float"
   ]
  },
  {
   "attachments": {},
   "cell_type": "markdown",
   "metadata": {},
   "source": [
    "#### 명시적 dtype 변경\n",
    "> def array(p_object: ndarray | Iterable | int | float,<br>\n",
    "            dtype: object | None = None,<br>\n",
    "            *args: Any,<br>\n",
    "            **kwargs: Any) -> ndarray"
   ]
  },
  {
   "cell_type": "code",
   "execution_count": 11,
   "metadata": {},
   "outputs": [
    {
     "name": "stdout",
     "output_type": "stream",
     "text": [
      "[10 20 30] <class 'numpy.ndarray'> int32\n"
     ]
    }
   ],
   "source": [
    "list_value = [10., 20, 30]      # float, int, int\n",
    "vector1 = np.array(list_value, dtype=np.int32)\n",
    "print(vector1, type(vector1), vector1.dtype)    # float -> int"
   ]
  },
  {
   "attachments": {},
   "cell_type": "markdown",
   "metadata": {},
   "source": [
    "##### np.array 속성\n",
    "- 차원(dimension,axis) 개수 : ndim\n",
    "- 차원의 크기(shape) : shape\n",
    "- 총 element 개수 (size) : size\n",
    "- 저장 데이터 type(dtype) : dtype"
   ]
  },
  {
   "cell_type": "code",
   "execution_count": 23,
   "metadata": {},
   "outputs": [
    {
     "name": "stdout",
     "output_type": "stream",
     "text": [
      "1\n",
      "(3,)\n",
      "3\n",
      "int32\n"
     ]
    }
   ],
   "source": [
    "print(vector1.ndim)\n",
    "print(vector1.shape)\n",
    "print(vector1.size)\n",
    "print(vector1.dtype)"
   ]
  },
  {
   "attachments": {},
   "cell_type": "markdown",
   "metadata": {},
   "source": [
    "#### Randon function\n",
    "    np.random.random([n]) : 0.0 <= 값 < 1.0 사이의 임의의 float 값 반환, 갯수 생략 시 1 개 반환\n",
    "    np.random.rand([n]) :  0 ~ 1의 균등분포에서 표본 추출, 갯수 생략하면 1 개 반환\n",
    "    np.random.randn([n]) :  표준편차가 1이고 평균값이 0인 정규분포에서 표본 추출. 갯수 생략 시  1개반환\n",
    "    np.random.randint(Min, Max, Num) : 주어진 최소(inclusive) ~ 최대(exclusive) 범위안에서 임의의 정수 n개 반환\n",
    "    np.random.randint(최대범위, size=n개) :   0 ~ 최대(exclusive) 범위안에서 임의의 정수 n개 반환\n",
    "        \n",
    "    np.random.choice(리스트)  : 주어진 리스트에서 임의의 값 1개 반환\n",
    "    np.random.shuffle(리스트)  :  주어진 리스트를 shuffle 함.  in-pacle(True)로 동작됨."
   ]
  },
  {
   "cell_type": "code",
   "execution_count": null,
   "metadata": {},
   "outputs": [],
   "source": []
  }
 ],
 "metadata": {
  "kernelspec": {
   "display_name": "Python 3",
   "language": "python",
   "name": "python3"
  },
  "language_info": {
   "codemirror_mode": {
    "name": "ipython",
    "version": 3
   },
   "file_extension": ".py",
   "mimetype": "text/x-python",
   "name": "python",
   "nbconvert_exporter": "python",
   "pygments_lexer": "ipython3",
   "version": "3.11.3"
  },
  "orig_nbformat": 4
 },
 "nbformat": 4,
 "nbformat_minor": 2
}
